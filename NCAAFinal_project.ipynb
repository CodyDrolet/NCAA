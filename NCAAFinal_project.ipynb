{
  "cells": [
    {
      "cell_type": "markdown",
      "metadata": {
        "id": "view-in-github",
        "colab_type": "text"
      },
      "source": [
        "<a href=\"https://colab.research.google.com/github/CodyDrolet/NCAA/blob/main/NCAAFinal_project.ipynb\" target=\"_parent\"><img src=\"https://colab.research.google.com/assets/colab-badge.svg\" alt=\"Open In Colab\"/></a>"
      ]
    },
    {
      "cell_type": "markdown",
      "source": [
        "### Cody Drolet\n",
        "    Final Project\n",
        "    May 2,2023\n",
        "    NCAA\n",
        "\n",
        "Showcased\n",
        "\n",
        "\n",
        "*   Data wrangling\n",
        "*   Data Heiarchies\n",
        "*   SKLearn Pipelines\n",
        "*   Correlation Matrix\n",
        "*   Supervised Machine Learning tools\n",
        "*   String Joins\n",
        "*   python list manipulation\n",
        "*   Feature engineering\n",
        "\n",
        "\n",
        "\n",
        "\n",
        "\n",
        "\n",
        "\n"
      ],
      "metadata": {
        "id": "nJgDA1QBhkMw"
      }
    },
    {
      "cell_type": "markdown",
      "metadata": {
        "id": "xuoK9sDFVKEr"
      },
      "source": [
        "# Data"
      ]
    },
    {
      "cell_type": "markdown",
      "metadata": {
        "id": "87qF1bl7q6FX"
      },
      "source": [
        "https://collegefootballdata.com/exporter/lines?year=2022&seasonType=regular \\\\\n",
        "\n",
        "https://www.kaggle.com/datasets/benjaminallen24/ap-top-25-ncaaf-poll-rankings-20222023\n",
        "\n",
        "My data is coming from the college football data.com and I will be using multiple data sets from them. The goal is to    \n",
        "First, build model A that predicts the effect each result of game will have on that teams votes count. Once that is complete then we can use that predicted model to find rank per week\n",
        "Model A only works AFTER the game is done\n",
        "\n",
        "\n",
        "From the games section I will be using **Games and results**\n",
        "**Season Calendar**\n",
        "From the rankings section I will be using\n",
        "**Historical polls and rankings**\n",
        "Then from the metrics section I will be using\n",
        "**Offense_overall**\n",
        "**defense_overall**\n",
        "\n",
        "From the kaggle dataset I get teams outside the top ten and there corresponding votes they recieved.\n"
      ]
    },
    {
      "cell_type": "markdown",
      "metadata": {
        "id": "aVMd5sH_U-xW"
      },
      "source": [
        "# Background"
      ]
    },
    {
      "cell_type": "markdown",
      "metadata": {
        "id": "p_vpx2s6VO5S"
      },
      "source": [
        "In NCAA football the BCS(Bowl Champion Series) comittee meets on a weekly basis and makes a AP(Associated press) top 25 poll. These polls are used to rank collegiate football teams based on not only there previous week but what they have done all season considering strength of schedule and win-loss records. These polls are important because they lead to the college football playoffs and bowl games. The voting for the top 25 is composed of 62 sportswriters and broadcasters from across the nation.(for AP) The Voting for the top 25 is composed of 65 coaches across the nation.(Coaches poll) Each writer votes who they think deserves the number 1 ranked spot and so on down to 25. Then the teams are given points based on how many votes they got and for what placing\n",
        "1st ~ 25 points\n",
        "\n",
        "* 1st ~ 25 points\n",
        "* 2nd ~ 24 points\n",
        "* 3rd ~ 23 points\n",
        "* 4th ~ 22 points\n",
        "* 5th ~ 21 points\n",
        "* 6th ~ 20 points\n",
        "* 7th ~ 19 points\n",
        "* 8th ~ 18 points\n",
        "* 9th ~ 17 points\n",
        "* 10th ~ 16 points\n",
        "* 11th ~ 15 points\n",
        "* 12th ~ 14 points\n",
        "* 13th ~ 13 points\n",
        "* 14th ~ 12 points\n",
        "* 15th ~ 11 points\n",
        "* 16th ~ 10 points\n",
        "* 17th ~ 9 points\n",
        "* 18th ~ 8 points\n",
        "* 19th ~ 7 points\n",
        "* 20th ~ 6 points\n",
        "* 21th ~ 5 points\n",
        "* 22nd ~ 4 points\n",
        "* 23rd ~ 3 points\n",
        "* 24th ~ 2 points\n",
        "* 25th ~ 1 point\n",
        "\n",
        "After the voting is done the team with the most points gets placed in first place and so on. Without looking two deep into it the process seems fair and that the best teams more often then not get the proper recocgnition but this is not always the case. The problem faced is that not every team plays the same level of competitition and or has the same schedule. This creates something called conference bias where teams with more known to be more difficult schedules tend to get the benefit of the doubt in these rankings. This can cause teams that might deserve to be in these rankings but arent in as prestigious of conference to be overlooked. This model will attempt to fairly place BCS points and create a top 25 eliminating conference bias.\n",
        "\n",
        "My Target Variable is going to be the differnce in votes per week and this will eventually lead to predicting the rank of each team by week. First things first we need to determine the biggest cause of drop or gain in rank.\n",
        "\n",
        "My features are as listed and will change every week.\n",
        "\tteam_points_x\topponent_points_x\twon_x\tloss_x\ttotal_win_count_x\ttotal_loss_count_x\topponent_rank\topponent_votes\toffense_overall_x\tdefense_overall_x\tteam_rank\tteam_votes\tcumulative_count\tdifference_per_week\n",
        "\n",
        "\n",
        "1. Loss- wether the team lost the game or not\n",
        "2. Win- wether the team won the game or not.\n",
        "3. team_votes: how many votes the home got to be ranked.\n",
        "4. Opponent_votes: how many votes the opponent got to be ranked.\n",
        "5. Teampoints ~ how many points the home team scored\n",
        "6. opponent_points_x ~ how many points the away team scored.\n",
        "\n",
        "\n",
        "Overall_offense- is calculated by summing up the Total EPA(Estimated points added) for all offensive plays in a game and dividing by the total number of offensive possessions in the game. This gives the average OPPA(Offense predicated Points Added) per offensive possession for the team over the course of the game.\n",
        "\n",
        "Overall OPPA takes into account a team's offensive performance over the game and is useful for evaluating the effectiveness of a team's offense in comparison to other teams in the same conference or division, or across the entire NCAA. A higher OPPA indicates a more effective offense that is able to consistently add points to the team's score throughout the season, while a lower OPPA indicates a less productive offense that may struggle to move the ball and score points.\n",
        "\n",
        "Defense_overall to calculate DPPA(defense predicated points added), the same basic process used for OPPA can be applied to the defense. Specifically, the Success Rate and Expected Points Added (EPA) for each defensive play can be calculated to obtain the Total EPA for all defensive plays in a game. Then, the Total EPA can be divided by the total number of defensive possessions in the game to obtain the average DPPA per defensive possession for the team over the course of the game.\n",
        "\n",
        "Like OPPA, DPPA takes into account a team's defensive performance during the game and is useful for evaluating the effectiveness of a team's defense in comparison to other teams in the same conference or division, or across the entire NCAA. A higher DPPA indicates a more effective defense that is able to consistently prevent points from being scored by the opposing team, while a lower DPPA indicates a less effective defense that may struggle to stop the opposing team from moving the ball and scoring points.\n",
        "\n",
        "In a game a teams offense and defense directly dependant on the other teams offense and defense performance so one teams offense performance number will be the opposing teams defense performance number and vice versa.\n",
        "\n",
        "\n",
        "\n",
        "\n",
        "\n",
        "\n",
        "\n"
      ]
    },
    {
      "cell_type": "markdown",
      "metadata": {
        "id": "rUgleGY_h1VU"
      },
      "source": [
        "# Data Wrangling"
      ]
    },
    {
      "cell_type": "markdown",
      "source": [
        "I had a table with every game in NCAA football 2022 and a table set with rank of every team that received votes by week for the season. What I need to do is figure out the teams rank and its opponent rank on the given week. Then I calculate vote_difference per week which would be my target variable and we want to see if there is correlation between a team lsoing or winning and its total votes recieved."
      ],
      "metadata": {
        "id": "rTuHUUZqlOsC"
      }
    },
    {
      "cell_type": "code",
      "execution_count": null,
      "metadata": {
        "colab": {
          "base_uri": "https://localhost:8080/"
        },
        "id": "hipp9cIskdIU",
        "outputId": "754f7ddf-4a46-4a03-a909-a6339a7ceb5e"
      },
      "outputs": [
        {
          "output_type": "stream",
          "name": "stdout",
          "text": [
            "  Installing build dependencies ... \u001b[?25l\u001b[?25hdone\n",
            "  Getting requirements to build wheel ... \u001b[?25l\u001b[?25hdone\n",
            "  Preparing metadata (pyproject.toml) ... \u001b[?25l\u001b[?25hdone\n",
            "\u001b[2K     \u001b[90m━━━━━━━━━━━━━━━━━━━━━━━━━━━━━━━━━━━━━━━━\u001b[0m \u001b[32m1.6/1.6 MB\u001b[0m \u001b[31m17.1 MB/s\u001b[0m eta \u001b[36m0:00:00\u001b[0m\n",
            "\u001b[?25h  Building wheel for helpers (pyproject.toml) ... \u001b[?25l\u001b[?25hdone\n",
            "\u001b[2K     \u001b[90m━━━━━━━━━━━━━━━━━━━━━━━━━━━━━━━━━━━━━━━━\u001b[0m \u001b[32m17.6/17.6 MB\u001b[0m \u001b[31m21.4 MB/s\u001b[0m eta \u001b[36m0:00:00\u001b[0m\n",
            "\u001b[2K     \u001b[90m━━━━━━━━━━━━━━━━━━━━━━━━━━━━━━━━━━━━━━━━\u001b[0m \u001b[32m12.3/12.3 MB\u001b[0m \u001b[31m57.8 MB/s\u001b[0m eta \u001b[36m0:00:00\u001b[0m\n",
            "\u001b[2K     \u001b[90m━━━━━━━━━━━━━━━━━━━━━━━━━━━━━━━━━━━━━━\u001b[0m \u001b[32m572.6/572.6 kB\u001b[0m \u001b[31m42.9 MB/s\u001b[0m eta \u001b[36m0:00:00\u001b[0m\n",
            "\u001b[2K     \u001b[90m━━━━━━━━━━━━━━━━━━━━━━━━━━━━━━━━━━━━━━\u001b[0m \u001b[32m341.8/341.8 kB\u001b[0m \u001b[31m29.3 MB/s\u001b[0m eta \u001b[36m0:00:00\u001b[0m\n",
            "\u001b[2K     \u001b[90m━━━━━━━━━━━━━━━━━━━━━━━━━━━━━━━━━━━━━━━━\u001b[0m \u001b[32m17.1/17.1 MB\u001b[0m \u001b[31m74.9 MB/s\u001b[0m eta \u001b[36m0:00:00\u001b[0m\n",
            "\u001b[?25h\u001b[31mERROR: pip's dependency resolver does not currently take into account all the packages that are installed. This behaviour is the source of the following dependency conflicts.\n",
            "google-colab 1.0.0 requires pandas==1.5.3, but you have pandas 2.0.3 which is incompatible.\u001b[0m\u001b[31m\n",
            "\u001b[0m"
          ]
        },
        {
          "output_type": "execute_result",
          "data": {
            "text/plain": [
              "{'status': 'ok', 'restart': True}"
            ]
          },
          "metadata": {},
          "execution_count": 1
        }
      ],
      "source": [
        "! pip install -q 'git+https://github.com/drscook/helpers'\n",
        "! pip install -q --upgrade numpy pandas scikit-learn matplotlib shap jupyter-autotime\n",
        "# restart kernel so upgrade takes effect\n",
        "from IPython import get_ipython\n",
        "get_ipython().kernel.do_shutdown(True)"
      ]
    },
    {
      "cell_type": "code",
      "execution_count": null,
      "metadata": {
        "id": "y-YCKz8VTRGt"
      },
      "outputs": [],
      "source": [
        "import plotly.express as px\n",
        "import pandas as pd\n",
        "import io\n",
        "import missingno as msno\n",
        "from google.colab import auth\n",
        "from helpers.common_imports import *\n",
        "from helpers import utilities as ut\n",
        "bq = ut.BigQuery()\n",
        "auth.authenticate_user()\n",
        "from google.cloud import bigquery\n",
        "client = bigquery.Client('tarletondatascience2022.drolet')"
      ]
    },
    {
      "cell_type": "code",
      "execution_count": null,
      "metadata": {
        "id": "zGToNfxFWx0g"
      },
      "outputs": [],
      "source": [
        "NCAA = 'tarletondatascience2022.drolet.NCAA2'#375 Gives me top25 by week and points given to the team\n",
        "#School(String) & Week(INT) will be in common\n",
        "Games = 'tarletondatascience2022.drolet.NCAASchedule'#858 Gives me home team and away team and points for each for each game in the NCAA 2022\n",
        "#ID(INT) is common use\n",
        "Ap = 'tarletondatascience2022.drolet.Ap25'#67 Wide format need to move to long but gives me teams just outside the 25\n",
        "#college(String) & Week(Int)\n",
        "Stats = 'tarletondatascience2022.drolet.Stats'#1521 defense and offense overall for the home team each game\n",
        "Ap2 = 'tarletondatascience2022.drolet.Ap2'#1005 gives me Ap table in long format\n",
        "#week(int) & College(string)\n",
        "Rank = 'tarletondatascience2022.drolet.RankPoint'#1005 AP and NCAA joined\n",
        "Outcomes= 'tarletondatascience2022.drolet.Win'#1716 Team its record and rank at the time of the game as well as offense and defense overall\n",
        "final_table='tarletondatascience2022.drolet.final_table'"
      ]
    },
    {
      "cell_type": "code",
      "execution_count": null,
      "metadata": {
        "id": "vLiTpHJbzu-_",
        "colab": {
          "base_uri": "https://localhost:8080/"
        },
        "outputId": "5838a140-fae5-4020-8591-2f817f4b9f92"
      },
      "outputs": [
        {
          "output_type": "execute_result",
          "data": {
            "text/plain": [
              "              college  week_1  week_2  week_3  week_4  week_5  week_6  week_7  \\\n",
              "index                                                                           \n",
              "0           Texas A&M       6       6      24      23      17      38    <NA>   \n",
              "1            Oklahoma       9       7       6       6      18      40    <NA>   \n",
              "2              Baylor      10       9      17      17      16      27      27   \n",
              "3      Oklahoma State      12      11       8       9       9       7       8   \n",
              "4      Michigan State      15      14      11      26    <NA>    <NA>    <NA>   \n",
              "...               ...     ...     ...     ...     ...     ...     ...     ...   \n",
              "62           Illinois    <NA>    <NA>    <NA>    <NA>    <NA>      36      24   \n",
              "63        Boise State      40    <NA>    <NA>    <NA>    <NA>    <NA>    <NA>   \n",
              "64         Pittsburgh      17      17      23      24      24    <NA>    <NA>   \n",
              "65          Minnesota      32      32      34      33      21      34      37   \n",
              "66      James Madison    <NA>    <NA>    <NA>    <NA>      34      30      25   \n",
              "\n",
              "       week_8  week_9  week_10  week_11  week_12  week_13  week_14  week_15  \\\n",
              "index                                                                         \n",
              "0        <NA>    <NA>     <NA>     <NA>     <NA>     <NA>     <NA>     <NA>   \n",
              "1        <NA>    <NA>     <NA>     <NA>     <NA>     <NA>     <NA>     <NA>   \n",
              "2        <NA>    <NA>       33       31     <NA>     <NA>     <NA>     <NA>   \n",
              "3          11       9       18       30       24       35     <NA>     <NA>   \n",
              "4        <NA>    <NA>     <NA>     <NA>     <NA>     <NA>     <NA>     <NA>   \n",
              "...       ...     ...      ...      ...      ...      ...      ...      ...   \n",
              "62         18      17       14       21       32       30       33       33   \n",
              "63       <NA>    <NA>       38     <NA>       35       29       29       34   \n",
              "64       <NA>    <NA>     <NA>     <NA>     <NA>     <NA>       35       35   \n",
              "65         35    <NA>     <NA>     <NA>       33     <NA>       39       36   \n",
              "66         32    <NA>     <NA>     <NA>     <NA>     <NA>       36       37   \n",
              "\n",
              "       week_16  \n",
              "index           \n",
              "0         <NA>  \n",
              "1         <NA>  \n",
              "2         <NA>  \n",
              "3         <NA>  \n",
              "4         <NA>  \n",
              "...        ...  \n",
              "62          40  \n",
              "63          29  \n",
              "64          22  \n",
              "65          30  \n",
              "66        <NA>  \n",
              "\n",
              "[67 rows x 17 columns]"
            ],
            "text/html": [
              "\n",
              "  <div id=\"df-536aec8a-455b-4e3b-8252-9d36eacf7513\">\n",
              "    <div class=\"colab-df-container\">\n",
              "      <div>\n",
              "<style scoped>\n",
              "    .dataframe tbody tr th:only-of-type {\n",
              "        vertical-align: middle;\n",
              "    }\n",
              "\n",
              "    .dataframe tbody tr th {\n",
              "        vertical-align: top;\n",
              "    }\n",
              "\n",
              "    .dataframe thead th {\n",
              "        text-align: right;\n",
              "    }\n",
              "</style>\n",
              "<table border=\"1\" class=\"dataframe\">\n",
              "  <thead>\n",
              "    <tr style=\"text-align: right;\">\n",
              "      <th></th>\n",
              "      <th>college</th>\n",
              "      <th>week_1</th>\n",
              "      <th>week_2</th>\n",
              "      <th>week_3</th>\n",
              "      <th>week_4</th>\n",
              "      <th>week_5</th>\n",
              "      <th>week_6</th>\n",
              "      <th>week_7</th>\n",
              "      <th>week_8</th>\n",
              "      <th>week_9</th>\n",
              "      <th>week_10</th>\n",
              "      <th>week_11</th>\n",
              "      <th>week_12</th>\n",
              "      <th>week_13</th>\n",
              "      <th>week_14</th>\n",
              "      <th>week_15</th>\n",
              "      <th>week_16</th>\n",
              "    </tr>\n",
              "    <tr>\n",
              "      <th>index</th>\n",
              "      <th></th>\n",
              "      <th></th>\n",
              "      <th></th>\n",
              "      <th></th>\n",
              "      <th></th>\n",
              "      <th></th>\n",
              "      <th></th>\n",
              "      <th></th>\n",
              "      <th></th>\n",
              "      <th></th>\n",
              "      <th></th>\n",
              "      <th></th>\n",
              "      <th></th>\n",
              "      <th></th>\n",
              "      <th></th>\n",
              "      <th></th>\n",
              "      <th></th>\n",
              "    </tr>\n",
              "  </thead>\n",
              "  <tbody>\n",
              "    <tr>\n",
              "      <th>0</th>\n",
              "      <td>Texas A&amp;M</td>\n",
              "      <td>6</td>\n",
              "      <td>6</td>\n",
              "      <td>24</td>\n",
              "      <td>23</td>\n",
              "      <td>17</td>\n",
              "      <td>38</td>\n",
              "      <td>&lt;NA&gt;</td>\n",
              "      <td>&lt;NA&gt;</td>\n",
              "      <td>&lt;NA&gt;</td>\n",
              "      <td>&lt;NA&gt;</td>\n",
              "      <td>&lt;NA&gt;</td>\n",
              "      <td>&lt;NA&gt;</td>\n",
              "      <td>&lt;NA&gt;</td>\n",
              "      <td>&lt;NA&gt;</td>\n",
              "      <td>&lt;NA&gt;</td>\n",
              "      <td>&lt;NA&gt;</td>\n",
              "    </tr>\n",
              "    <tr>\n",
              "      <th>1</th>\n",
              "      <td>Oklahoma</td>\n",
              "      <td>9</td>\n",
              "      <td>7</td>\n",
              "      <td>6</td>\n",
              "      <td>6</td>\n",
              "      <td>18</td>\n",
              "      <td>40</td>\n",
              "      <td>&lt;NA&gt;</td>\n",
              "      <td>&lt;NA&gt;</td>\n",
              "      <td>&lt;NA&gt;</td>\n",
              "      <td>&lt;NA&gt;</td>\n",
              "      <td>&lt;NA&gt;</td>\n",
              "      <td>&lt;NA&gt;</td>\n",
              "      <td>&lt;NA&gt;</td>\n",
              "      <td>&lt;NA&gt;</td>\n",
              "      <td>&lt;NA&gt;</td>\n",
              "      <td>&lt;NA&gt;</td>\n",
              "    </tr>\n",
              "    <tr>\n",
              "      <th>2</th>\n",
              "      <td>Baylor</td>\n",
              "      <td>10</td>\n",
              "      <td>9</td>\n",
              "      <td>17</td>\n",
              "      <td>17</td>\n",
              "      <td>16</td>\n",
              "      <td>27</td>\n",
              "      <td>27</td>\n",
              "      <td>&lt;NA&gt;</td>\n",
              "      <td>&lt;NA&gt;</td>\n",
              "      <td>33</td>\n",
              "      <td>31</td>\n",
              "      <td>&lt;NA&gt;</td>\n",
              "      <td>&lt;NA&gt;</td>\n",
              "      <td>&lt;NA&gt;</td>\n",
              "      <td>&lt;NA&gt;</td>\n",
              "      <td>&lt;NA&gt;</td>\n",
              "    </tr>\n",
              "    <tr>\n",
              "      <th>3</th>\n",
              "      <td>Oklahoma State</td>\n",
              "      <td>12</td>\n",
              "      <td>11</td>\n",
              "      <td>8</td>\n",
              "      <td>9</td>\n",
              "      <td>9</td>\n",
              "      <td>7</td>\n",
              "      <td>8</td>\n",
              "      <td>11</td>\n",
              "      <td>9</td>\n",
              "      <td>18</td>\n",
              "      <td>30</td>\n",
              "      <td>24</td>\n",
              "      <td>35</td>\n",
              "      <td>&lt;NA&gt;</td>\n",
              "      <td>&lt;NA&gt;</td>\n",
              "      <td>&lt;NA&gt;</td>\n",
              "    </tr>\n",
              "    <tr>\n",
              "      <th>4</th>\n",
              "      <td>Michigan State</td>\n",
              "      <td>15</td>\n",
              "      <td>14</td>\n",
              "      <td>11</td>\n",
              "      <td>26</td>\n",
              "      <td>&lt;NA&gt;</td>\n",
              "      <td>&lt;NA&gt;</td>\n",
              "      <td>&lt;NA&gt;</td>\n",
              "      <td>&lt;NA&gt;</td>\n",
              "      <td>&lt;NA&gt;</td>\n",
              "      <td>&lt;NA&gt;</td>\n",
              "      <td>&lt;NA&gt;</td>\n",
              "      <td>&lt;NA&gt;</td>\n",
              "      <td>&lt;NA&gt;</td>\n",
              "      <td>&lt;NA&gt;</td>\n",
              "      <td>&lt;NA&gt;</td>\n",
              "      <td>&lt;NA&gt;</td>\n",
              "    </tr>\n",
              "    <tr>\n",
              "      <th>...</th>\n",
              "      <td>...</td>\n",
              "      <td>...</td>\n",
              "      <td>...</td>\n",
              "      <td>...</td>\n",
              "      <td>...</td>\n",
              "      <td>...</td>\n",
              "      <td>...</td>\n",
              "      <td>...</td>\n",
              "      <td>...</td>\n",
              "      <td>...</td>\n",
              "      <td>...</td>\n",
              "      <td>...</td>\n",
              "      <td>...</td>\n",
              "      <td>...</td>\n",
              "      <td>...</td>\n",
              "      <td>...</td>\n",
              "      <td>...</td>\n",
              "    </tr>\n",
              "    <tr>\n",
              "      <th>62</th>\n",
              "      <td>Illinois</td>\n",
              "      <td>&lt;NA&gt;</td>\n",
              "      <td>&lt;NA&gt;</td>\n",
              "      <td>&lt;NA&gt;</td>\n",
              "      <td>&lt;NA&gt;</td>\n",
              "      <td>&lt;NA&gt;</td>\n",
              "      <td>36</td>\n",
              "      <td>24</td>\n",
              "      <td>18</td>\n",
              "      <td>17</td>\n",
              "      <td>14</td>\n",
              "      <td>21</td>\n",
              "      <td>32</td>\n",
              "      <td>30</td>\n",
              "      <td>33</td>\n",
              "      <td>33</td>\n",
              "      <td>40</td>\n",
              "    </tr>\n",
              "    <tr>\n",
              "      <th>63</th>\n",
              "      <td>Boise State</td>\n",
              "      <td>40</td>\n",
              "      <td>&lt;NA&gt;</td>\n",
              "      <td>&lt;NA&gt;</td>\n",
              "      <td>&lt;NA&gt;</td>\n",
              "      <td>&lt;NA&gt;</td>\n",
              "      <td>&lt;NA&gt;</td>\n",
              "      <td>&lt;NA&gt;</td>\n",
              "      <td>&lt;NA&gt;</td>\n",
              "      <td>&lt;NA&gt;</td>\n",
              "      <td>38</td>\n",
              "      <td>&lt;NA&gt;</td>\n",
              "      <td>35</td>\n",
              "      <td>29</td>\n",
              "      <td>29</td>\n",
              "      <td>34</td>\n",
              "      <td>29</td>\n",
              "    </tr>\n",
              "    <tr>\n",
              "      <th>64</th>\n",
              "      <td>Pittsburgh</td>\n",
              "      <td>17</td>\n",
              "      <td>17</td>\n",
              "      <td>23</td>\n",
              "      <td>24</td>\n",
              "      <td>24</td>\n",
              "      <td>&lt;NA&gt;</td>\n",
              "      <td>&lt;NA&gt;</td>\n",
              "      <td>&lt;NA&gt;</td>\n",
              "      <td>&lt;NA&gt;</td>\n",
              "      <td>&lt;NA&gt;</td>\n",
              "      <td>&lt;NA&gt;</td>\n",
              "      <td>&lt;NA&gt;</td>\n",
              "      <td>&lt;NA&gt;</td>\n",
              "      <td>35</td>\n",
              "      <td>35</td>\n",
              "      <td>22</td>\n",
              "    </tr>\n",
              "    <tr>\n",
              "      <th>65</th>\n",
              "      <td>Minnesota</td>\n",
              "      <td>32</td>\n",
              "      <td>32</td>\n",
              "      <td>34</td>\n",
              "      <td>33</td>\n",
              "      <td>21</td>\n",
              "      <td>34</td>\n",
              "      <td>37</td>\n",
              "      <td>35</td>\n",
              "      <td>&lt;NA&gt;</td>\n",
              "      <td>&lt;NA&gt;</td>\n",
              "      <td>&lt;NA&gt;</td>\n",
              "      <td>33</td>\n",
              "      <td>&lt;NA&gt;</td>\n",
              "      <td>39</td>\n",
              "      <td>36</td>\n",
              "      <td>30</td>\n",
              "    </tr>\n",
              "    <tr>\n",
              "      <th>66</th>\n",
              "      <td>James Madison</td>\n",
              "      <td>&lt;NA&gt;</td>\n",
              "      <td>&lt;NA&gt;</td>\n",
              "      <td>&lt;NA&gt;</td>\n",
              "      <td>&lt;NA&gt;</td>\n",
              "      <td>34</td>\n",
              "      <td>30</td>\n",
              "      <td>25</td>\n",
              "      <td>32</td>\n",
              "      <td>&lt;NA&gt;</td>\n",
              "      <td>&lt;NA&gt;</td>\n",
              "      <td>&lt;NA&gt;</td>\n",
              "      <td>&lt;NA&gt;</td>\n",
              "      <td>&lt;NA&gt;</td>\n",
              "      <td>36</td>\n",
              "      <td>37</td>\n",
              "      <td>&lt;NA&gt;</td>\n",
              "    </tr>\n",
              "  </tbody>\n",
              "</table>\n",
              "<p>67 rows × 17 columns</p>\n",
              "</div>\n",
              "      <button class=\"colab-df-convert\" onclick=\"convertToInteractive('df-536aec8a-455b-4e3b-8252-9d36eacf7513')\"\n",
              "              title=\"Convert this dataframe to an interactive table.\"\n",
              "              style=\"display:none;\">\n",
              "        \n",
              "  <svg xmlns=\"http://www.w3.org/2000/svg\" height=\"24px\"viewBox=\"0 0 24 24\"\n",
              "       width=\"24px\">\n",
              "    <path d=\"M0 0h24v24H0V0z\" fill=\"none\"/>\n",
              "    <path d=\"M18.56 5.44l.94 2.06.94-2.06 2.06-.94-2.06-.94-.94-2.06-.94 2.06-2.06.94zm-11 1L8.5 8.5l.94-2.06 2.06-.94-2.06-.94L8.5 2.5l-.94 2.06-2.06.94zm10 10l.94 2.06.94-2.06 2.06-.94-2.06-.94-.94-2.06-.94 2.06-2.06.94z\"/><path d=\"M17.41 7.96l-1.37-1.37c-.4-.4-.92-.59-1.43-.59-.52 0-1.04.2-1.43.59L10.3 9.45l-7.72 7.72c-.78.78-.78 2.05 0 2.83L4 21.41c.39.39.9.59 1.41.59.51 0 1.02-.2 1.41-.59l7.78-7.78 2.81-2.81c.8-.78.8-2.07 0-2.86zM5.41 20L4 18.59l7.72-7.72 1.47 1.35L5.41 20z\"/>\n",
              "  </svg>\n",
              "      </button>\n",
              "      \n",
              "  <style>\n",
              "    .colab-df-container {\n",
              "      display:flex;\n",
              "      flex-wrap:wrap;\n",
              "      gap: 12px;\n",
              "    }\n",
              "\n",
              "    .colab-df-convert {\n",
              "      background-color: #E8F0FE;\n",
              "      border: none;\n",
              "      border-radius: 50%;\n",
              "      cursor: pointer;\n",
              "      display: none;\n",
              "      fill: #1967D2;\n",
              "      height: 32px;\n",
              "      padding: 0 0 0 0;\n",
              "      width: 32px;\n",
              "    }\n",
              "\n",
              "    .colab-df-convert:hover {\n",
              "      background-color: #E2EBFA;\n",
              "      box-shadow: 0px 1px 2px rgba(60, 64, 67, 0.3), 0px 1px 3px 1px rgba(60, 64, 67, 0.15);\n",
              "      fill: #174EA6;\n",
              "    }\n",
              "\n",
              "    [theme=dark] .colab-df-convert {\n",
              "      background-color: #3B4455;\n",
              "      fill: #D2E3FC;\n",
              "    }\n",
              "\n",
              "    [theme=dark] .colab-df-convert:hover {\n",
              "      background-color: #434B5C;\n",
              "      box-shadow: 0px 1px 3px 1px rgba(0, 0, 0, 0.15);\n",
              "      filter: drop-shadow(0px 1px 2px rgba(0, 0, 0, 0.3));\n",
              "      fill: #FFFFFF;\n",
              "    }\n",
              "  </style>\n",
              "\n",
              "      <script>\n",
              "        const buttonEl =\n",
              "          document.querySelector('#df-536aec8a-455b-4e3b-8252-9d36eacf7513 button.colab-df-convert');\n",
              "        buttonEl.style.display =\n",
              "          google.colab.kernel.accessAllowed ? 'block' : 'none';\n",
              "\n",
              "        async function convertToInteractive(key) {\n",
              "          const element = document.querySelector('#df-536aec8a-455b-4e3b-8252-9d36eacf7513');\n",
              "          const dataTable =\n",
              "            await google.colab.kernel.invokeFunction('convertToInteractive',\n",
              "                                                     [key], {});\n",
              "          if (!dataTable) return;\n",
              "\n",
              "          const docLinkHtml = 'Like what you see? Visit the ' +\n",
              "            '<a target=\"_blank\" href=https://colab.research.google.com/notebooks/data_table.ipynb>data table notebook</a>'\n",
              "            + ' to learn more about interactive tables.';\n",
              "          element.innerHTML = '';\n",
              "          dataTable['output_type'] = 'display_data';\n",
              "          await google.colab.output.renderOutput(dataTable, element);\n",
              "          const docLink = document.createElement('div');\n",
              "          docLink.innerHTML = docLinkHtml;\n",
              "          element.appendChild(docLink);\n",
              "        }\n",
              "      </script>\n",
              "    </div>\n",
              "  </div>\n",
              "  "
            ]
          },
          "metadata": {},
          "execution_count": 5
        }
      ],
      "source": [
        "#This takes my ranking table and flips it from wide to long format to make the model easier to handle.\n",
        "qry2 = f'''\n",
        "SELECT\n",
        " *,\n",
        "FROM\n",
        "  {Ap}\n",
        "\n",
        "'''\n",
        "df2 = bq.qry_to_df(qry2).fillna(float('nan'))\n",
        "melted_df = pd.melt(df2,id_vars=['college'],\n",
        "value_vars=[  'week_1','week_2','week_3',\n",
        "'week_4','week_5','week_6',\n",
        "'week_7','week_8','week_9',\n",
        "'week_10','week_11','week_12',\n",
        "'week_13','week_14','week_15'], var_name='week', value_name ='rank')\n",
        "melted_df['week']= melted_df['week'].replace({'week_1':'1'\n",
        ",'week_2':'2','week_3':'3'\n",
        ",'week_4':'4','week_5':'5'\n",
        ",'week_5':'5','week_6':'6'\n",
        ",'week_7':'7','week_8':'8'\n",
        ",'week_9':'9','week_10':'10'\n",
        ",'week_11':'11','week_12':'12'\n",
        ",'week_13':'13','week_14':'14'\n",
        ",'week_15':'15'})\n",
        "melted_df['week']=melted_df['week'].astype(int)\n",
        "tbl = f\"tarletondatascience2022.drolet.Ap2\"\n",
        "#bq.df_to_tbl(melted_df,tbl)\n",
        "df2"
      ]
    },
    {
      "cell_type": "markdown",
      "source": [
        "Joining these tables that will give me every ranked team and there corresponding votes."
      ],
      "metadata": {
        "id": "67kfFLL5l4U9"
      }
    },
    {
      "cell_type": "code",
      "execution_count": null,
      "metadata": {
        "colab": {
          "base_uri": "https://localhost:8080/",
          "height": 450
        },
        "id": "G_MHV-wqUjbs",
        "outputId": "35a8e590-ca2f-433c-b3b9-b394f8de0eb7"
      },
      "outputs": [
        {
          "output_type": "execute_result",
          "data": {
            "text/plain": [
              "                 college             school  week  rank  points\n",
              "index                                                          \n",
              "0              Air Force          Air Force     1    41    <NA>\n",
              "1      Appalachian State  Appalachian State     1    42    <NA>\n",
              "2                   UCLA               UCLA     1    43    <NA>\n",
              "3         South Carolina     South Carolina     1    44    <NA>\n",
              "4                 Kansas             Kansas     1  <NA>    <NA>\n",
              "...                  ...                ...   ...   ...     ...\n",
              "1000            Illinois           Illinois    15    33    <NA>\n",
              "1001         Boise State        Boise State    15    34    <NA>\n",
              "1002          Pittsburgh         Pittsburgh    15    35    <NA>\n",
              "1003           Minnesota          Minnesota    15    36    <NA>\n",
              "1004       James Madison      James Madison    15    37    <NA>\n",
              "\n",
              "[1005 rows x 5 columns]"
            ],
            "text/html": [
              "\n",
              "  <div id=\"df-1db1e484-4f08-42b4-bb48-82e74452a2b7\">\n",
              "    <div class=\"colab-df-container\">\n",
              "      <div>\n",
              "<style scoped>\n",
              "    .dataframe tbody tr th:only-of-type {\n",
              "        vertical-align: middle;\n",
              "    }\n",
              "\n",
              "    .dataframe tbody tr th {\n",
              "        vertical-align: top;\n",
              "    }\n",
              "\n",
              "    .dataframe thead th {\n",
              "        text-align: right;\n",
              "    }\n",
              "</style>\n",
              "<table border=\"1\" class=\"dataframe\">\n",
              "  <thead>\n",
              "    <tr style=\"text-align: right;\">\n",
              "      <th></th>\n",
              "      <th>college</th>\n",
              "      <th>school</th>\n",
              "      <th>week</th>\n",
              "      <th>rank</th>\n",
              "      <th>points</th>\n",
              "    </tr>\n",
              "    <tr>\n",
              "      <th>index</th>\n",
              "      <th></th>\n",
              "      <th></th>\n",
              "      <th></th>\n",
              "      <th></th>\n",
              "      <th></th>\n",
              "    </tr>\n",
              "  </thead>\n",
              "  <tbody>\n",
              "    <tr>\n",
              "      <th>0</th>\n",
              "      <td>Air Force</td>\n",
              "      <td>Air Force</td>\n",
              "      <td>1</td>\n",
              "      <td>41</td>\n",
              "      <td>&lt;NA&gt;</td>\n",
              "    </tr>\n",
              "    <tr>\n",
              "      <th>1</th>\n",
              "      <td>Appalachian State</td>\n",
              "      <td>Appalachian State</td>\n",
              "      <td>1</td>\n",
              "      <td>42</td>\n",
              "      <td>&lt;NA&gt;</td>\n",
              "    </tr>\n",
              "    <tr>\n",
              "      <th>2</th>\n",
              "      <td>UCLA</td>\n",
              "      <td>UCLA</td>\n",
              "      <td>1</td>\n",
              "      <td>43</td>\n",
              "      <td>&lt;NA&gt;</td>\n",
              "    </tr>\n",
              "    <tr>\n",
              "      <th>3</th>\n",
              "      <td>South Carolina</td>\n",
              "      <td>South Carolina</td>\n",
              "      <td>1</td>\n",
              "      <td>44</td>\n",
              "      <td>&lt;NA&gt;</td>\n",
              "    </tr>\n",
              "    <tr>\n",
              "      <th>4</th>\n",
              "      <td>Kansas</td>\n",
              "      <td>Kansas</td>\n",
              "      <td>1</td>\n",
              "      <td>&lt;NA&gt;</td>\n",
              "      <td>&lt;NA&gt;</td>\n",
              "    </tr>\n",
              "    <tr>\n",
              "      <th>...</th>\n",
              "      <td>...</td>\n",
              "      <td>...</td>\n",
              "      <td>...</td>\n",
              "      <td>...</td>\n",
              "      <td>...</td>\n",
              "    </tr>\n",
              "    <tr>\n",
              "      <th>1000</th>\n",
              "      <td>Illinois</td>\n",
              "      <td>Illinois</td>\n",
              "      <td>15</td>\n",
              "      <td>33</td>\n",
              "      <td>&lt;NA&gt;</td>\n",
              "    </tr>\n",
              "    <tr>\n",
              "      <th>1001</th>\n",
              "      <td>Boise State</td>\n",
              "      <td>Boise State</td>\n",
              "      <td>15</td>\n",
              "      <td>34</td>\n",
              "      <td>&lt;NA&gt;</td>\n",
              "    </tr>\n",
              "    <tr>\n",
              "      <th>1002</th>\n",
              "      <td>Pittsburgh</td>\n",
              "      <td>Pittsburgh</td>\n",
              "      <td>15</td>\n",
              "      <td>35</td>\n",
              "      <td>&lt;NA&gt;</td>\n",
              "    </tr>\n",
              "    <tr>\n",
              "      <th>1003</th>\n",
              "      <td>Minnesota</td>\n",
              "      <td>Minnesota</td>\n",
              "      <td>15</td>\n",
              "      <td>36</td>\n",
              "      <td>&lt;NA&gt;</td>\n",
              "    </tr>\n",
              "    <tr>\n",
              "      <th>1004</th>\n",
              "      <td>James Madison</td>\n",
              "      <td>James Madison</td>\n",
              "      <td>15</td>\n",
              "      <td>37</td>\n",
              "      <td>&lt;NA&gt;</td>\n",
              "    </tr>\n",
              "  </tbody>\n",
              "</table>\n",
              "<p>1005 rows × 5 columns</p>\n",
              "</div>\n",
              "      <button class=\"colab-df-convert\" onclick=\"convertToInteractive('df-1db1e484-4f08-42b4-bb48-82e74452a2b7')\"\n",
              "              title=\"Convert this dataframe to an interactive table.\"\n",
              "              style=\"display:none;\">\n",
              "        \n",
              "  <svg xmlns=\"http://www.w3.org/2000/svg\" height=\"24px\"viewBox=\"0 0 24 24\"\n",
              "       width=\"24px\">\n",
              "    <path d=\"M0 0h24v24H0V0z\" fill=\"none\"/>\n",
              "    <path d=\"M18.56 5.44l.94 2.06.94-2.06 2.06-.94-2.06-.94-.94-2.06-.94 2.06-2.06.94zm-11 1L8.5 8.5l.94-2.06 2.06-.94-2.06-.94L8.5 2.5l-.94 2.06-2.06.94zm10 10l.94 2.06.94-2.06 2.06-.94-2.06-.94-.94-2.06-.94 2.06-2.06.94z\"/><path d=\"M17.41 7.96l-1.37-1.37c-.4-.4-.92-.59-1.43-.59-.52 0-1.04.2-1.43.59L10.3 9.45l-7.72 7.72c-.78.78-.78 2.05 0 2.83L4 21.41c.39.39.9.59 1.41.59.51 0 1.02-.2 1.41-.59l7.78-7.78 2.81-2.81c.8-.78.8-2.07 0-2.86zM5.41 20L4 18.59l7.72-7.72 1.47 1.35L5.41 20z\"/>\n",
              "  </svg>\n",
              "      </button>\n",
              "      \n",
              "  <style>\n",
              "    .colab-df-container {\n",
              "      display:flex;\n",
              "      flex-wrap:wrap;\n",
              "      gap: 12px;\n",
              "    }\n",
              "\n",
              "    .colab-df-convert {\n",
              "      background-color: #E8F0FE;\n",
              "      border: none;\n",
              "      border-radius: 50%;\n",
              "      cursor: pointer;\n",
              "      display: none;\n",
              "      fill: #1967D2;\n",
              "      height: 32px;\n",
              "      padding: 0 0 0 0;\n",
              "      width: 32px;\n",
              "    }\n",
              "\n",
              "    .colab-df-convert:hover {\n",
              "      background-color: #E2EBFA;\n",
              "      box-shadow: 0px 1px 2px rgba(60, 64, 67, 0.3), 0px 1px 3px 1px rgba(60, 64, 67, 0.15);\n",
              "      fill: #174EA6;\n",
              "    }\n",
              "\n",
              "    [theme=dark] .colab-df-convert {\n",
              "      background-color: #3B4455;\n",
              "      fill: #D2E3FC;\n",
              "    }\n",
              "\n",
              "    [theme=dark] .colab-df-convert:hover {\n",
              "      background-color: #434B5C;\n",
              "      box-shadow: 0px 1px 3px 1px rgba(0, 0, 0, 0.15);\n",
              "      filter: drop-shadow(0px 1px 2px rgba(0, 0, 0, 0.3));\n",
              "      fill: #FFFFFF;\n",
              "    }\n",
              "  </style>\n",
              "\n",
              "      <script>\n",
              "        const buttonEl =\n",
              "          document.querySelector('#df-1db1e484-4f08-42b4-bb48-82e74452a2b7 button.colab-df-convert');\n",
              "        buttonEl.style.display =\n",
              "          google.colab.kernel.accessAllowed ? 'block' : 'none';\n",
              "\n",
              "        async function convertToInteractive(key) {\n",
              "          const element = document.querySelector('#df-1db1e484-4f08-42b4-bb48-82e74452a2b7');\n",
              "          const dataTable =\n",
              "            await google.colab.kernel.invokeFunction('convertToInteractive',\n",
              "                                                     [key], {});\n",
              "          if (!dataTable) return;\n",
              "\n",
              "          const docLinkHtml = 'Like what you see? Visit the ' +\n",
              "            '<a target=\"_blank\" href=https://colab.research.google.com/notebooks/data_table.ipynb>data table notebook</a>'\n",
              "            + ' to learn more about interactive tables.';\n",
              "          element.innerHTML = '';\n",
              "          dataTable['output_type'] = 'display_data';\n",
              "          await google.colab.output.renderOutput(dataTable, element);\n",
              "          const docLink = document.createElement('div');\n",
              "          docLink.innerHTML = docLinkHtml;\n",
              "          element.appendChild(docLink);\n",
              "        }\n",
              "      </script>\n",
              "    </div>\n",
              "  </div>\n",
              "  "
            ]
          },
          "metadata": {},
          "execution_count": 4
        }
      ],
      "source": [
        "#this is the join that gives me points for every ranked team joined with ranked teams.\n",
        "qry = f'''\n",
        "select\n",
        "A.college,\n",
        "A.school,\n",
        "A.week,\n",
        "A.rank,\n",
        "B.points\n",
        "from\n",
        "(\n",
        "  select\n",
        "  *,\n",
        "  replace(replace(college, 'UNC','North Carolina'),'UTSA','UT San Antonio') as school\n",
        "  from\n",
        "  {Ap2}\n",
        ") as A\n",
        "left join\n",
        "  {NCAA} as B\n",
        "on\n",
        "  LTRIM(RTRIM(A.school)) = LTRIM(RTRIM(B.school))\n",
        "  and\n",
        "  A.week = B.week\n",
        "order by A.week asc\n",
        "'''\n",
        "df4 = bq.qry_to_df(qry)\n",
        "df4"
      ]
    },
    {
      "cell_type": "markdown",
      "source": [
        "For missing data I had to indiviually enter it in."
      ],
      "metadata": {
        "id": "_Skan4R1mEcw"
      }
    },
    {
      "cell_type": "code",
      "execution_count": null,
      "metadata": {
        "colab": {
          "base_uri": "https://localhost:8080/",
          "height": 450
        },
        "id": "OXy-WC63OdRi",
        "outputId": "5c554ded-7b3b-4a0e-a8a0-06a56df46d2f"
      },
      "outputs": [
        {
          "output_type": "execute_result",
          "data": {
            "text/plain": [
              "                 college             school  week  rank  points\n",
              "index                                                          \n",
              "0              Air Force          Air Force     1    41       4\n",
              "1      Appalachian State  Appalachian State     1    42       4\n",
              "2                   UCLA               UCLA     1    43       2\n",
              "3         South Carolina     South Carolina     1    44       2\n",
              "4                 Kansas             Kansas     1  <NA>    <NA>\n",
              "...                  ...                ...   ...   ...     ...\n",
              "1000            Illinois           Illinois    15    33      11\n",
              "1001         Boise State        Boise State    15    34       6\n",
              "1002          Pittsburgh         Pittsburgh    15    35       4\n",
              "1003           Minnesota          Minnesota    15    36       2\n",
              "1004       James Madison      James Madison    15    37       1\n",
              "\n",
              "[1005 rows x 5 columns]"
            ],
            "text/html": [
              "\n",
              "  <div id=\"df-895b0632-3d40-4981-a706-cb43f65465f3\">\n",
              "    <div class=\"colab-df-container\">\n",
              "      <div>\n",
              "<style scoped>\n",
              "    .dataframe tbody tr th:only-of-type {\n",
              "        vertical-align: middle;\n",
              "    }\n",
              "\n",
              "    .dataframe tbody tr th {\n",
              "        vertical-align: top;\n",
              "    }\n",
              "\n",
              "    .dataframe thead th {\n",
              "        text-align: right;\n",
              "    }\n",
              "</style>\n",
              "<table border=\"1\" class=\"dataframe\">\n",
              "  <thead>\n",
              "    <tr style=\"text-align: right;\">\n",
              "      <th></th>\n",
              "      <th>college</th>\n",
              "      <th>school</th>\n",
              "      <th>week</th>\n",
              "      <th>rank</th>\n",
              "      <th>points</th>\n",
              "    </tr>\n",
              "    <tr>\n",
              "      <th>index</th>\n",
              "      <th></th>\n",
              "      <th></th>\n",
              "      <th></th>\n",
              "      <th></th>\n",
              "      <th></th>\n",
              "    </tr>\n",
              "  </thead>\n",
              "  <tbody>\n",
              "    <tr>\n",
              "      <th>0</th>\n",
              "      <td>Air Force</td>\n",
              "      <td>Air Force</td>\n",
              "      <td>1</td>\n",
              "      <td>41</td>\n",
              "      <td>4</td>\n",
              "    </tr>\n",
              "    <tr>\n",
              "      <th>1</th>\n",
              "      <td>Appalachian State</td>\n",
              "      <td>Appalachian State</td>\n",
              "      <td>1</td>\n",
              "      <td>42</td>\n",
              "      <td>4</td>\n",
              "    </tr>\n",
              "    <tr>\n",
              "      <th>2</th>\n",
              "      <td>UCLA</td>\n",
              "      <td>UCLA</td>\n",
              "      <td>1</td>\n",
              "      <td>43</td>\n",
              "      <td>2</td>\n",
              "    </tr>\n",
              "    <tr>\n",
              "      <th>3</th>\n",
              "      <td>South Carolina</td>\n",
              "      <td>South Carolina</td>\n",
              "      <td>1</td>\n",
              "      <td>44</td>\n",
              "      <td>2</td>\n",
              "    </tr>\n",
              "    <tr>\n",
              "      <th>4</th>\n",
              "      <td>Kansas</td>\n",
              "      <td>Kansas</td>\n",
              "      <td>1</td>\n",
              "      <td>&lt;NA&gt;</td>\n",
              "      <td>&lt;NA&gt;</td>\n",
              "    </tr>\n",
              "    <tr>\n",
              "      <th>...</th>\n",
              "      <td>...</td>\n",
              "      <td>...</td>\n",
              "      <td>...</td>\n",
              "      <td>...</td>\n",
              "      <td>...</td>\n",
              "    </tr>\n",
              "    <tr>\n",
              "      <th>1000</th>\n",
              "      <td>Illinois</td>\n",
              "      <td>Illinois</td>\n",
              "      <td>15</td>\n",
              "      <td>33</td>\n",
              "      <td>11</td>\n",
              "    </tr>\n",
              "    <tr>\n",
              "      <th>1001</th>\n",
              "      <td>Boise State</td>\n",
              "      <td>Boise State</td>\n",
              "      <td>15</td>\n",
              "      <td>34</td>\n",
              "      <td>6</td>\n",
              "    </tr>\n",
              "    <tr>\n",
              "      <th>1002</th>\n",
              "      <td>Pittsburgh</td>\n",
              "      <td>Pittsburgh</td>\n",
              "      <td>15</td>\n",
              "      <td>35</td>\n",
              "      <td>4</td>\n",
              "    </tr>\n",
              "    <tr>\n",
              "      <th>1003</th>\n",
              "      <td>Minnesota</td>\n",
              "      <td>Minnesota</td>\n",
              "      <td>15</td>\n",
              "      <td>36</td>\n",
              "      <td>2</td>\n",
              "    </tr>\n",
              "    <tr>\n",
              "      <th>1004</th>\n",
              "      <td>James Madison</td>\n",
              "      <td>James Madison</td>\n",
              "      <td>15</td>\n",
              "      <td>37</td>\n",
              "      <td>1</td>\n",
              "    </tr>\n",
              "  </tbody>\n",
              "</table>\n",
              "<p>1005 rows × 5 columns</p>\n",
              "</div>\n",
              "      <button class=\"colab-df-convert\" onclick=\"convertToInteractive('df-895b0632-3d40-4981-a706-cb43f65465f3')\"\n",
              "              title=\"Convert this dataframe to an interactive table.\"\n",
              "              style=\"display:none;\">\n",
              "        \n",
              "  <svg xmlns=\"http://www.w3.org/2000/svg\" height=\"24px\"viewBox=\"0 0 24 24\"\n",
              "       width=\"24px\">\n",
              "    <path d=\"M0 0h24v24H0V0z\" fill=\"none\"/>\n",
              "    <path d=\"M18.56 5.44l.94 2.06.94-2.06 2.06-.94-2.06-.94-.94-2.06-.94 2.06-2.06.94zm-11 1L8.5 8.5l.94-2.06 2.06-.94-2.06-.94L8.5 2.5l-.94 2.06-2.06.94zm10 10l.94 2.06.94-2.06 2.06-.94-2.06-.94-.94-2.06-.94 2.06-2.06.94z\"/><path d=\"M17.41 7.96l-1.37-1.37c-.4-.4-.92-.59-1.43-.59-.52 0-1.04.2-1.43.59L10.3 9.45l-7.72 7.72c-.78.78-.78 2.05 0 2.83L4 21.41c.39.39.9.59 1.41.59.51 0 1.02-.2 1.41-.59l7.78-7.78 2.81-2.81c.8-.78.8-2.07 0-2.86zM5.41 20L4 18.59l7.72-7.72 1.47 1.35L5.41 20z\"/>\n",
              "  </svg>\n",
              "      </button>\n",
              "      \n",
              "  <style>\n",
              "    .colab-df-container {\n",
              "      display:flex;\n",
              "      flex-wrap:wrap;\n",
              "      gap: 12px;\n",
              "    }\n",
              "\n",
              "    .colab-df-convert {\n",
              "      background-color: #E8F0FE;\n",
              "      border: none;\n",
              "      border-radius: 50%;\n",
              "      cursor: pointer;\n",
              "      display: none;\n",
              "      fill: #1967D2;\n",
              "      height: 32px;\n",
              "      padding: 0 0 0 0;\n",
              "      width: 32px;\n",
              "    }\n",
              "\n",
              "    .colab-df-convert:hover {\n",
              "      background-color: #E2EBFA;\n",
              "      box-shadow: 0px 1px 2px rgba(60, 64, 67, 0.3), 0px 1px 3px 1px rgba(60, 64, 67, 0.15);\n",
              "      fill: #174EA6;\n",
              "    }\n",
              "\n",
              "    [theme=dark] .colab-df-convert {\n",
              "      background-color: #3B4455;\n",
              "      fill: #D2E3FC;\n",
              "    }\n",
              "\n",
              "    [theme=dark] .colab-df-convert:hover {\n",
              "      background-color: #434B5C;\n",
              "      box-shadow: 0px 1px 3px 1px rgba(0, 0, 0, 0.15);\n",
              "      filter: drop-shadow(0px 1px 2px rgba(0, 0, 0, 0.3));\n",
              "      fill: #FFFFFF;\n",
              "    }\n",
              "  </style>\n",
              "\n",
              "      <script>\n",
              "        const buttonEl =\n",
              "          document.querySelector('#df-895b0632-3d40-4981-a706-cb43f65465f3 button.colab-df-convert');\n",
              "        buttonEl.style.display =\n",
              "          google.colab.kernel.accessAllowed ? 'block' : 'none';\n",
              "\n",
              "        async function convertToInteractive(key) {\n",
              "          const element = document.querySelector('#df-895b0632-3d40-4981-a706-cb43f65465f3');\n",
              "          const dataTable =\n",
              "            await google.colab.kernel.invokeFunction('convertToInteractive',\n",
              "                                                     [key], {});\n",
              "          if (!dataTable) return;\n",
              "\n",
              "          const docLinkHtml = 'Like what you see? Visit the ' +\n",
              "            '<a target=\"_blank\" href=https://colab.research.google.com/notebooks/data_table.ipynb>data table notebook</a>'\n",
              "            + ' to learn more about interactive tables.';\n",
              "          element.innerHTML = '';\n",
              "          dataTable['output_type'] = 'display_data';\n",
              "          await google.colab.output.renderOutput(dataTable, element);\n",
              "          const docLink = document.createElement('div');\n",
              "          docLink.innerHTML = docLinkHtml;\n",
              "          element.appendChild(docLink);\n",
              "        }\n",
              "      </script>\n",
              "    </div>\n",
              "  </div>\n",
              "  "
            ]
          },
          "metadata": {},
          "execution_count": 5
        }
      ],
      "source": [
        "#I had to go in indiviually and add points for teams outside the top 25\n",
        "df4.loc[(df4['school']=='Tennessee') & (df4['week']== 1),['points']]=180\n",
        "df4.loc[(df4['school'] =='Texas') & (df4['week'].isin([1, 2, 9, 10, 12])), 'points'] = [164, 118, 38, 58, 65]\n",
        "df4.loc[(df4['school'] == 'Iowa') & (df4['week'].isin([1, 3,13])), 'points'] = [163, 4, 5]\n",
        "df4.loc[(df4['school'] == 'Penn State') & (df4['week'].isin([1, 2])), 'points'] = [160, 122]\n",
        "df4.loc[(df4['school'] == 'LSU') & (df4['week'].isin([1,4,5,7,8])), 'points'] = [55,6,7,4,87]\n",
        "df4.loc[(df4['school'] == 'Fresno State') & (df4['week'].isin([1, 2,13,14,15])), 'points'] = [32,42,1,4,25]\n",
        "df4.loc[(df4['school'] == 'Minnesota') & (df4['week'].isin([1, 2,3,4,6,7,8,12,14,15])), 'points'] = [31,22,37,48,14,5,1,7,1,2]\n",
        "df4.loc[(df4['school'] == 'UCF') & (df4['week'].isin([1, 2,8,15])), 'points'] = [27,22,13,36]\n",
        "df4.loc[(df4['school'] == 'Purdue') & (df4['week'].isin([1, 2,3,6,7,8,13,14,15])), 'points'] = [17,1,1,2,34,95,2,24,17]\n",
        "df4.loc[(df4['school'] == 'Mississippi State') & (df4['week'].isin([1, 2,3,9,10,11,13])), 'points'] = [15,10,43,10,5,8,3]\n",
        "df4.loc[(df4['school'] == 'Auburn') & (df4['week'].isin([1, 2,3])), 'points'] = [15,15,4]\n",
        "df4.loc[(df4['school'] == 'Kansas State') & (df4['week'].isin([1, 2,3])), 'points'] = [14,18,77]\n",
        "df4.loc[(df4['school'] == 'Florida') & (df4['week'].isin([1,5,6,7,12])), 'points'] = [14,56,37,56,6]\n",
        "df4.loc[(df4['school'] == 'North Carolina') & (df4['week'].isin([1,2,3,4,6,7,15])), 'points'] = [9,3,37,72,5,98,39]\n",
        "df4.loc[(df4['school'] == 'Boise State') & (df4['week'].isin([1,10,12,13,14,15])), 'points'] = [5,4,5,16,39,6]\n",
        "df4.loc[(df4['school'] == 'Air Force') & (df4['week'].isin([1,2,3])), 'points'] = [4,8,19]\n",
        "df4.loc[(df4['school'] == 'Appalachian State') & (df4['week'].isin([1,3,4])), 'points'] = [4,80,77]\n",
        "df4.loc[(df4['school'] == 'UCLA') & (df4['week'].isin([1,2,5])), 'points'] = [2,1,3]\n",
        "df4.loc[(df4['school'] == 'South Carolina') & (df4['week'].isin([1,2,7,8,10,11,13])), 'points'] = [2,2,12,13,2,6,44]\n",
        "df4.loc[(df4['school'] == 'Oregon') & (df4['week'].isin([2])), 'points'] = [131]\n",
        "df4.loc[(df4['school'] == 'Cincinnati') & (df4['week'].isin([2,3,4,5,10,11,14,15])), 'points'] = [63,80,52,60,32,74,43,32]\n",
        "df4.loc[(df4['school'] == 'Oregon State') & (df4['week'].isin([2,3,4,5,8,9,11])), 'points'] = [5,42,49,16,6,25,3]\n",
        "df4.loc[(df4['school'] == 'Marshall') & (df4['week'].isin([3])), 'points'] = [85]\n",
        "df4.loc[(df4['school'] == 'Florida State') & (df4['week'].isin([2,3,4,6,7,8,9,10])), 'points'] = [42,42,85,78,18,1,1,8]\n",
        "df4.loc[(df4['school']=='Washington State') & (df4['week'].isin([3,4,5,6,7])), 'points'] = [30,62,31,91,10]\n",
        "df4.loc[(df4['school']=='Notre Dame') & (df4['week'].isin([3,7,10])), 'points'] = [23,58,24]\n",
        "df4.loc[(df4['school']=='Texas Tech') & (df4['week'].isin([3,5])), 'points'] = [17,11]\n",
        "df4.loc[(df4['school']=='Wisconsin') & (df4['week'].isin([3,4])), 'points'] = [7,4]\n",
        "df4.loc[(df4['school']=='Michigan State') & (df4['week'].isin([4])), 'points'] = [91]\n",
        "df4.loc[(df4['school']=='Kansas') & (df4['week'].isin([4,5,8,11])), 'points'] = [23,125,12,10]\n",
        "df4.loc[(df4['school']=='Syracuse') & (df4['week'].isin([4,5])), 'points'] = [7,22]\n",
        "df4.loc[(df4['school']=='James Madison') & (df4['week'].isin([5,6,8,14,15])), 'points'] = [4,39,6,4,1]\n",
        "df4.loc[(df4['school']=='Tulane') & (df4['week'].isin([5,6,7])), 'points'] = [3,9,42]\n",
        "df4.loc[(df4['school']=='TCU') & (df4['week'].isin([5])), 'points'] = [1]\n",
        "df4.loc[(df4['school']=='Baylor') & (df4['week'].isin([6,7,10,11])), 'points'] = [88,91,9,19]\n",
        "df4.loc[(df4['school']=='Arkansas') & (df4['week'].isin([6,8,9,10,13])), 'points'] = [76,1,1,11,2]\n",
        "df4.loc[(df4['school']=='Maryland') & (df4['week'].isin([6,7,9,10])), 'points'] = [25,4,8,36]\n",
        "df4.loc[(df4['school']=='Coastal Carolina') & (df4['week'].isin([6,7,10,11,14])), 'points'] = [17,61,8,46,6]\n",
        "df4.loc[(df4['school']=='Illinois') & (df4['week'].isin([6,12,13,14,15])), 'points'] = [6,13,12,10,11]\n",
        "df4.loc[(df4['school']=='Texas A&M') & (df4['week'].isin([6])), 'points'] = [4]\n",
        "df4.loc[(df4['school']=='Oklahoma') & (df4['week'].isin([6])), 'points'] = [2]\n",
        "df4.loc[(df4['school']=='BYU') & (df4['week'].isin([7])), 'points'] = [61]\n",
        "df4.loc[(df4['school']=='San Jose State') & (df4['week'].isin([7,11])), 'points'] = [1,1]\n",
        "df4.loc[(df4['school']=='Liberty') & (df4['week'].isin([8,9,12])), 'points'] = [2,35,15]\n",
        "df4.loc[(df4['school']=='Troy') & (df4['week'].isin([9,10,11,12,13,14])), 'points'] = [3,7,5,22,34,80]\n",
        "df4.loc[(df4['school']=='UT San Antonio') & (df4['week'].isin([9,10,11,12,13])), 'points'] = [1,1,5,51,85]\n",
        "df4.loc[(df4['school']=='Washington') & (df4['week'].isin([3,9,10])), 'points'] = [1,1,12]\n",
        "df4.loc[(df4['school']=='Kentucky') & (df4['week'].isin([10,11])), 'points'] = [57,61]\n",
        "df4.loc[(df4['school']=='East Carolina') & (df4['week'].isin([10])), 'points'] = [2]\n",
        "df4.loc[(df4['school']=='Louisville') & (df4['week'].isin([10,11,13])), 'points'] = [1,3,5]\n",
        "df4.loc[(df4['school']=='Wake Forest') & (df4['week'].isin([11])), 'points'] = [34]\n",
        "df4.loc[(df4['school']=='Oklahoma State') & (df4['week'].isin([11,13])), 'points'] = [21,2]\n",
        "df4.loc[(df4['school']=='NC State') & (df4['week'].isin([12,14])), 'points'] = [77,62]\n",
        "df4.loc[(df4['school']=='Duke') & (df4['week'].isin([12])), 'points'] = [16]\n",
        "df4.loc[(df4['school']=='South Alabama') & (df4['week'].isin([8,12,13,14,15])), 'points'] = [4,1,3,12,17]\n",
        "df4.loc[(df4['school']=='Pittsburgh') & (df4['week'].isin([14,15])), 'points'] = [5,4]\n",
        "df4.loc[(df4['school']=='Ohio') & (df4['week'].isin([14])), 'points'] = [2]\n",
        "df4.loc[(df4['school']=='Ole Miss') & (df4['week'].isin([14,15])), 'points'] = [22,27]\n",
        "#tbl = f\"tarletondatascience2022.drolet.RankPoint\"\n",
        "#bq.df_to_tbl(df4,tbl)\n",
        "#msno.bar(df4)\n",
        "df4"
      ]
    },
    {
      "cell_type": "markdown",
      "source": [
        "This gets rid of the idea of home and away and creates opponent and team. So there should be two rows for every game that happened."
      ],
      "metadata": {
        "id": "C7QPGKUgmLig"
      }
    },
    {
      "cell_type": "code",
      "execution_count": null,
      "metadata": {
        "colab": {
          "base_uri": "https://localhost:8080/",
          "height": 35
        },
        "id": "A4dm4TSqVFAD",
        "outputId": "77e273a5-6931-455c-a627-74769d5be96b"
      },
      "outputs": [
        {
          "output_type": "execute_result",
          "data": {
            "text/plain": [
              "'tarletondatascience2022.drolet.Win'"
            ],
            "application/vnd.google.colaboratory.intrinsic+json": {
              "type": "string"
            }
          },
          "metadata": {},
          "execution_count": 6
        }
      ],
      "source": [
        "#this shows how many times the home team won\n",
        "home = f'''\n",
        "SELECT\n",
        "  id,\n",
        "  week,\n",
        "  home_team as team,\n",
        "  away_team as opponent,\n",
        "  home_points as competitor_points,\n",
        "  away_points as opponent_points,\n",
        "  case when home_points > away_points then 1 else 0 end as won,\n",
        "  case when home_points < away_points then 1 else 0 end as loss\n",
        "FROM\n",
        "  {Games}\n",
        "'''\n",
        "home1 = bq.qry_to_df(home)\n",
        "#this shows how many times the away team won\n",
        "away = f'''\n",
        "SELECT\n",
        "  id,\n",
        "  week,\n",
        "  away_team as team,\n",
        "  home_team as opponent,\n",
        "  away_points as competitor_points,\n",
        "  home_points as opponent_points,\n",
        "  case when away_points > home_points then 1 else 0 end as won,\n",
        "  case when away_points < home_points then 1 else 0 end as loss\n",
        "FROM\n",
        "  {Games}\n",
        "'''\n",
        "away1 = bq.qry_to_df(away)\n",
        "qry = f'''\n",
        "select\n",
        "*,\n",
        "gameid as id,\n",
        "\n",
        "from\n",
        "(\n",
        "  select\n",
        "  * except(season,conference)\n",
        "  from\n",
        "  {Stats} as A\n",
        ")\n",
        "'''\n",
        "stats = bq.qry_to_df(qry)\n",
        "result = pd.concat([home1,away1])\n",
        "#We then merge these two to get rid of the idea of home and away teams\n",
        "FBS = pd.merge(result,stats, on=['id','team'],how='left').drop(columns=['week_y','opponent_y','gameid'])\n",
        "tbl = f\"tarletondatascience2022.drolet.Win\"\n",
        "bq.df_to_tbl(FBS,tbl)\n"
      ]
    },
    {
      "cell_type": "code",
      "execution_count": null,
      "metadata": {
        "colab": {
          "base_uri": "https://localhost:8080/",
          "height": 517
        },
        "id": "-kYZngTSSASZ",
        "outputId": "01690243-dfd8-4124-ae69-a5e0589d9790"
      },
      "outputs": [
        {
          "output_type": "display_data",
          "data": {
            "text/plain": [
              "<IPython.core.display.HTML object>"
            ],
            "text/html": [
              "<pre>✔️ 3.38 s (2023-05-11T21:06:08/2023-05-11T21:06:12)</pre>"
            ]
          },
          "metadata": {}
        },
        {
          "output_type": "execute_result",
          "data": {
            "text/plain": [
              "             id  week       team  team_points_x      opponent_x   \n",
              "1353  401403977     2  Air Force             41        Colorado  \\\n",
              "1354  401415217     3  Air Force             14         Wyoming   \n",
              "1355  401415220     4  Air Force             48          Nevada   \n",
              "1356  401415227     5  Air Force             13            Navy   \n",
              "1357  401415231     6  Air Force             27      Utah State   \n",
              "...         ...   ...        ...            ...             ...   \n",
              "149   401415244     8    Wyoming             28      Utah State   \n",
              "150   401415247     9    Wyoming             27         Hawai'i   \n",
              "151   401415258    11    Wyoming             14  Colorado State   \n",
              "152   401415261    12    Wyoming             17     Boise State   \n",
              "153   401415270    13    Wyoming              0    Fresno State   \n",
              "\n",
              "      opponent_points_x  opponent_rank  won_x  loss_x  total_win_count_x   \n",
              "1353                 10           <NA>      1       0                  2  \\\n",
              "1354                 17           <NA>      0       1                  2   \n",
              "1355                 20           <NA>      1       0                  3   \n",
              "1356                 10           <NA>      1       0                  4   \n",
              "1357                 34           <NA>      0       1                  4   \n",
              "...                 ...            ...    ...     ...                ...   \n",
              "149                  14           <NA>      1       0                  5   \n",
              "150                  20           <NA>      1       0                  6   \n",
              "151                  13           <NA>      1       0                  7   \n",
              "152                  20             35      0       1                  7   \n",
              "153                  30             38      0       1                  7   \n",
              "\n",
              "      total_loss_count_x  opponent_votes  offense_overall_x   \n",
              "1353                   0               0           0.311015  \\\n",
              "1354                   1               0           0.180743   \n",
              "1355                   1               0           0.516699   \n",
              "1356                   1               0           0.217349   \n",
              "1357                   2               0           0.237557   \n",
              "...                  ...             ...                ...   \n",
              "149                    3               0           0.326198   \n",
              "150                    3               0           0.373776   \n",
              "151                    3               0           0.139036   \n",
              "152                    4               5           0.052039   \n",
              "153                    5               1          -0.171615   \n",
              "\n",
              "      defense_overall_x  team_rank  team_votes  cumulative_count   \n",
              "1353           0.127387         37           8                 2  \\\n",
              "1354           0.120118         37          19                 3   \n",
              "1355           0.417454       <NA>           0                 4   \n",
              "1356           0.069034       <NA>           0                 5   \n",
              "1357           0.321124       <NA>           0                 6   \n",
              "...                 ...        ...         ...               ...   \n",
              "149           -0.020712       <NA>           0                 8   \n",
              "150            0.107697       <NA>           0                 9   \n",
              "151            0.180112       <NA>           0                10   \n",
              "152            0.223122       <NA>           0                11   \n",
              "153            0.139729       <NA>           0                12   \n",
              "\n",
              "      difference_per_week  difference_votes  point_difference   \n",
              "1353                    4                 8                31  \\\n",
              "1354                   11                19                -3   \n",
              "1355                  -19                 0                28   \n",
              "1356                    0                 0                 3   \n",
              "1357                    0                 0                -7   \n",
              "...                   ...               ...               ...   \n",
              "149                     0                 0                14   \n",
              "150                     0                 0                 7   \n",
              "151                     0                 0                 1   \n",
              "152                     0                -5                -3   \n",
              "153                     0                -1               -30   \n",
              "\n",
              "      performance_overall  \n",
              "1353             0.183629  \n",
              "1354             0.060624  \n",
              "1355             0.099246  \n",
              "1356             0.148314  \n",
              "1357            -0.083566  \n",
              "...                   ...  \n",
              "149               0.34691  \n",
              "150               0.26608  \n",
              "151             -0.041076  \n",
              "152             -0.171083  \n",
              "153             -0.311344  \n",
              "\n",
              "[1482 rows x 21 columns]"
            ],
            "text/html": [
              "\n",
              "  <div id=\"df-0f2a1e25-9848-4d00-82b0-98cbcb6e4aeb\">\n",
              "    <div class=\"colab-df-container\">\n",
              "      <div>\n",
              "<style scoped>\n",
              "    .dataframe tbody tr th:only-of-type {\n",
              "        vertical-align: middle;\n",
              "    }\n",
              "\n",
              "    .dataframe tbody tr th {\n",
              "        vertical-align: top;\n",
              "    }\n",
              "\n",
              "    .dataframe thead th {\n",
              "        text-align: right;\n",
              "    }\n",
              "</style>\n",
              "<table border=\"1\" class=\"dataframe\">\n",
              "  <thead>\n",
              "    <tr style=\"text-align: right;\">\n",
              "      <th></th>\n",
              "      <th>id</th>\n",
              "      <th>week</th>\n",
              "      <th>team</th>\n",
              "      <th>team_points_x</th>\n",
              "      <th>opponent_x</th>\n",
              "      <th>opponent_points_x</th>\n",
              "      <th>opponent_rank</th>\n",
              "      <th>won_x</th>\n",
              "      <th>loss_x</th>\n",
              "      <th>total_win_count_x</th>\n",
              "      <th>total_loss_count_x</th>\n",
              "      <th>opponent_votes</th>\n",
              "      <th>offense_overall_x</th>\n",
              "      <th>defense_overall_x</th>\n",
              "      <th>team_rank</th>\n",
              "      <th>team_votes</th>\n",
              "      <th>cumulative_count</th>\n",
              "      <th>difference_per_week</th>\n",
              "      <th>difference_votes</th>\n",
              "      <th>point_difference</th>\n",
              "      <th>performance_overall</th>\n",
              "    </tr>\n",
              "  </thead>\n",
              "  <tbody>\n",
              "    <tr>\n",
              "      <th>1353</th>\n",
              "      <td>401403977</td>\n",
              "      <td>2</td>\n",
              "      <td>Air Force</td>\n",
              "      <td>41</td>\n",
              "      <td>Colorado</td>\n",
              "      <td>10</td>\n",
              "      <td>&lt;NA&gt;</td>\n",
              "      <td>1</td>\n",
              "      <td>0</td>\n",
              "      <td>2</td>\n",
              "      <td>0</td>\n",
              "      <td>0</td>\n",
              "      <td>0.311015</td>\n",
              "      <td>0.127387</td>\n",
              "      <td>37</td>\n",
              "      <td>8</td>\n",
              "      <td>2</td>\n",
              "      <td>4</td>\n",
              "      <td>8</td>\n",
              "      <td>31</td>\n",
              "      <td>0.183629</td>\n",
              "    </tr>\n",
              "    <tr>\n",
              "      <th>1354</th>\n",
              "      <td>401415217</td>\n",
              "      <td>3</td>\n",
              "      <td>Air Force</td>\n",
              "      <td>14</td>\n",
              "      <td>Wyoming</td>\n",
              "      <td>17</td>\n",
              "      <td>&lt;NA&gt;</td>\n",
              "      <td>0</td>\n",
              "      <td>1</td>\n",
              "      <td>2</td>\n",
              "      <td>1</td>\n",
              "      <td>0</td>\n",
              "      <td>0.180743</td>\n",
              "      <td>0.120118</td>\n",
              "      <td>37</td>\n",
              "      <td>19</td>\n",
              "      <td>3</td>\n",
              "      <td>11</td>\n",
              "      <td>19</td>\n",
              "      <td>-3</td>\n",
              "      <td>0.060624</td>\n",
              "    </tr>\n",
              "    <tr>\n",
              "      <th>1355</th>\n",
              "      <td>401415220</td>\n",
              "      <td>4</td>\n",
              "      <td>Air Force</td>\n",
              "      <td>48</td>\n",
              "      <td>Nevada</td>\n",
              "      <td>20</td>\n",
              "      <td>&lt;NA&gt;</td>\n",
              "      <td>1</td>\n",
              "      <td>0</td>\n",
              "      <td>3</td>\n",
              "      <td>1</td>\n",
              "      <td>0</td>\n",
              "      <td>0.516699</td>\n",
              "      <td>0.417454</td>\n",
              "      <td>&lt;NA&gt;</td>\n",
              "      <td>0</td>\n",
              "      <td>4</td>\n",
              "      <td>-19</td>\n",
              "      <td>0</td>\n",
              "      <td>28</td>\n",
              "      <td>0.099246</td>\n",
              "    </tr>\n",
              "    <tr>\n",
              "      <th>1356</th>\n",
              "      <td>401415227</td>\n",
              "      <td>5</td>\n",
              "      <td>Air Force</td>\n",
              "      <td>13</td>\n",
              "      <td>Navy</td>\n",
              "      <td>10</td>\n",
              "      <td>&lt;NA&gt;</td>\n",
              "      <td>1</td>\n",
              "      <td>0</td>\n",
              "      <td>4</td>\n",
              "      <td>1</td>\n",
              "      <td>0</td>\n",
              "      <td>0.217349</td>\n",
              "      <td>0.069034</td>\n",
              "      <td>&lt;NA&gt;</td>\n",
              "      <td>0</td>\n",
              "      <td>5</td>\n",
              "      <td>0</td>\n",
              "      <td>0</td>\n",
              "      <td>3</td>\n",
              "      <td>0.148314</td>\n",
              "    </tr>\n",
              "    <tr>\n",
              "      <th>1357</th>\n",
              "      <td>401415231</td>\n",
              "      <td>6</td>\n",
              "      <td>Air Force</td>\n",
              "      <td>27</td>\n",
              "      <td>Utah State</td>\n",
              "      <td>34</td>\n",
              "      <td>&lt;NA&gt;</td>\n",
              "      <td>0</td>\n",
              "      <td>1</td>\n",
              "      <td>4</td>\n",
              "      <td>2</td>\n",
              "      <td>0</td>\n",
              "      <td>0.237557</td>\n",
              "      <td>0.321124</td>\n",
              "      <td>&lt;NA&gt;</td>\n",
              "      <td>0</td>\n",
              "      <td>6</td>\n",
              "      <td>0</td>\n",
              "      <td>0</td>\n",
              "      <td>-7</td>\n",
              "      <td>-0.083566</td>\n",
              "    </tr>\n",
              "    <tr>\n",
              "      <th>...</th>\n",
              "      <td>...</td>\n",
              "      <td>...</td>\n",
              "      <td>...</td>\n",
              "      <td>...</td>\n",
              "      <td>...</td>\n",
              "      <td>...</td>\n",
              "      <td>...</td>\n",
              "      <td>...</td>\n",
              "      <td>...</td>\n",
              "      <td>...</td>\n",
              "      <td>...</td>\n",
              "      <td>...</td>\n",
              "      <td>...</td>\n",
              "      <td>...</td>\n",
              "      <td>...</td>\n",
              "      <td>...</td>\n",
              "      <td>...</td>\n",
              "      <td>...</td>\n",
              "      <td>...</td>\n",
              "      <td>...</td>\n",
              "      <td>...</td>\n",
              "    </tr>\n",
              "    <tr>\n",
              "      <th>149</th>\n",
              "      <td>401415244</td>\n",
              "      <td>8</td>\n",
              "      <td>Wyoming</td>\n",
              "      <td>28</td>\n",
              "      <td>Utah State</td>\n",
              "      <td>14</td>\n",
              "      <td>&lt;NA&gt;</td>\n",
              "      <td>1</td>\n",
              "      <td>0</td>\n",
              "      <td>5</td>\n",
              "      <td>3</td>\n",
              "      <td>0</td>\n",
              "      <td>0.326198</td>\n",
              "      <td>-0.020712</td>\n",
              "      <td>&lt;NA&gt;</td>\n",
              "      <td>0</td>\n",
              "      <td>8</td>\n",
              "      <td>0</td>\n",
              "      <td>0</td>\n",
              "      <td>14</td>\n",
              "      <td>0.34691</td>\n",
              "    </tr>\n",
              "    <tr>\n",
              "      <th>150</th>\n",
              "      <td>401415247</td>\n",
              "      <td>9</td>\n",
              "      <td>Wyoming</td>\n",
              "      <td>27</td>\n",
              "      <td>Hawai'i</td>\n",
              "      <td>20</td>\n",
              "      <td>&lt;NA&gt;</td>\n",
              "      <td>1</td>\n",
              "      <td>0</td>\n",
              "      <td>6</td>\n",
              "      <td>3</td>\n",
              "      <td>0</td>\n",
              "      <td>0.373776</td>\n",
              "      <td>0.107697</td>\n",
              "      <td>&lt;NA&gt;</td>\n",
              "      <td>0</td>\n",
              "      <td>9</td>\n",
              "      <td>0</td>\n",
              "      <td>0</td>\n",
              "      <td>7</td>\n",
              "      <td>0.26608</td>\n",
              "    </tr>\n",
              "    <tr>\n",
              "      <th>151</th>\n",
              "      <td>401415258</td>\n",
              "      <td>11</td>\n",
              "      <td>Wyoming</td>\n",
              "      <td>14</td>\n",
              "      <td>Colorado State</td>\n",
              "      <td>13</td>\n",
              "      <td>&lt;NA&gt;</td>\n",
              "      <td>1</td>\n",
              "      <td>0</td>\n",
              "      <td>7</td>\n",
              "      <td>3</td>\n",
              "      <td>0</td>\n",
              "      <td>0.139036</td>\n",
              "      <td>0.180112</td>\n",
              "      <td>&lt;NA&gt;</td>\n",
              "      <td>0</td>\n",
              "      <td>10</td>\n",
              "      <td>0</td>\n",
              "      <td>0</td>\n",
              "      <td>1</td>\n",
              "      <td>-0.041076</td>\n",
              "    </tr>\n",
              "    <tr>\n",
              "      <th>152</th>\n",
              "      <td>401415261</td>\n",
              "      <td>12</td>\n",
              "      <td>Wyoming</td>\n",
              "      <td>17</td>\n",
              "      <td>Boise State</td>\n",
              "      <td>20</td>\n",
              "      <td>35</td>\n",
              "      <td>0</td>\n",
              "      <td>1</td>\n",
              "      <td>7</td>\n",
              "      <td>4</td>\n",
              "      <td>5</td>\n",
              "      <td>0.052039</td>\n",
              "      <td>0.223122</td>\n",
              "      <td>&lt;NA&gt;</td>\n",
              "      <td>0</td>\n",
              "      <td>11</td>\n",
              "      <td>0</td>\n",
              "      <td>-5</td>\n",
              "      <td>-3</td>\n",
              "      <td>-0.171083</td>\n",
              "    </tr>\n",
              "    <tr>\n",
              "      <th>153</th>\n",
              "      <td>401415270</td>\n",
              "      <td>13</td>\n",
              "      <td>Wyoming</td>\n",
              "      <td>0</td>\n",
              "      <td>Fresno State</td>\n",
              "      <td>30</td>\n",
              "      <td>38</td>\n",
              "      <td>0</td>\n",
              "      <td>1</td>\n",
              "      <td>7</td>\n",
              "      <td>5</td>\n",
              "      <td>1</td>\n",
              "      <td>-0.171615</td>\n",
              "      <td>0.139729</td>\n",
              "      <td>&lt;NA&gt;</td>\n",
              "      <td>0</td>\n",
              "      <td>12</td>\n",
              "      <td>0</td>\n",
              "      <td>-1</td>\n",
              "      <td>-30</td>\n",
              "      <td>-0.311344</td>\n",
              "    </tr>\n",
              "  </tbody>\n",
              "</table>\n",
              "<p>1482 rows × 21 columns</p>\n",
              "</div>\n",
              "      <button class=\"colab-df-convert\" onclick=\"convertToInteractive('df-0f2a1e25-9848-4d00-82b0-98cbcb6e4aeb')\"\n",
              "              title=\"Convert this dataframe to an interactive table.\"\n",
              "              style=\"display:none;\">\n",
              "        \n",
              "  <svg xmlns=\"http://www.w3.org/2000/svg\" height=\"24px\"viewBox=\"0 0 24 24\"\n",
              "       width=\"24px\">\n",
              "    <path d=\"M0 0h24v24H0V0z\" fill=\"none\"/>\n",
              "    <path d=\"M18.56 5.44l.94 2.06.94-2.06 2.06-.94-2.06-.94-.94-2.06-.94 2.06-2.06.94zm-11 1L8.5 8.5l.94-2.06 2.06-.94-2.06-.94L8.5 2.5l-.94 2.06-2.06.94zm10 10l.94 2.06.94-2.06 2.06-.94-2.06-.94-.94-2.06-.94 2.06-2.06.94z\"/><path d=\"M17.41 7.96l-1.37-1.37c-.4-.4-.92-.59-1.43-.59-.52 0-1.04.2-1.43.59L10.3 9.45l-7.72 7.72c-.78.78-.78 2.05 0 2.83L4 21.41c.39.39.9.59 1.41.59.51 0 1.02-.2 1.41-.59l7.78-7.78 2.81-2.81c.8-.78.8-2.07 0-2.86zM5.41 20L4 18.59l7.72-7.72 1.47 1.35L5.41 20z\"/>\n",
              "  </svg>\n",
              "      </button>\n",
              "      \n",
              "  <style>\n",
              "    .colab-df-container {\n",
              "      display:flex;\n",
              "      flex-wrap:wrap;\n",
              "      gap: 12px;\n",
              "    }\n",
              "\n",
              "    .colab-df-convert {\n",
              "      background-color: #E8F0FE;\n",
              "      border: none;\n",
              "      border-radius: 50%;\n",
              "      cursor: pointer;\n",
              "      display: none;\n",
              "      fill: #1967D2;\n",
              "      height: 32px;\n",
              "      padding: 0 0 0 0;\n",
              "      width: 32px;\n",
              "    }\n",
              "\n",
              "    .colab-df-convert:hover {\n",
              "      background-color: #E2EBFA;\n",
              "      box-shadow: 0px 1px 2px rgba(60, 64, 67, 0.3), 0px 1px 3px 1px rgba(60, 64, 67, 0.15);\n",
              "      fill: #174EA6;\n",
              "    }\n",
              "\n",
              "    [theme=dark] .colab-df-convert {\n",
              "      background-color: #3B4455;\n",
              "      fill: #D2E3FC;\n",
              "    }\n",
              "\n",
              "    [theme=dark] .colab-df-convert:hover {\n",
              "      background-color: #434B5C;\n",
              "      box-shadow: 0px 1px 3px 1px rgba(0, 0, 0, 0.15);\n",
              "      filter: drop-shadow(0px 1px 2px rgba(0, 0, 0, 0.3));\n",
              "      fill: #FFFFFF;\n",
              "    }\n",
              "  </style>\n",
              "\n",
              "      <script>\n",
              "        const buttonEl =\n",
              "          document.querySelector('#df-0f2a1e25-9848-4d00-82b0-98cbcb6e4aeb button.colab-df-convert');\n",
              "        buttonEl.style.display =\n",
              "          google.colab.kernel.accessAllowed ? 'block' : 'none';\n",
              "\n",
              "        async function convertToInteractive(key) {\n",
              "          const element = document.querySelector('#df-0f2a1e25-9848-4d00-82b0-98cbcb6e4aeb');\n",
              "          const dataTable =\n",
              "            await google.colab.kernel.invokeFunction('convertToInteractive',\n",
              "                                                     [key], {});\n",
              "          if (!dataTable) return;\n",
              "\n",
              "          const docLinkHtml = 'Like what you see? Visit the ' +\n",
              "            '<a target=\"_blank\" href=https://colab.research.google.com/notebooks/data_table.ipynb>data table notebook</a>'\n",
              "            + ' to learn more about interactive tables.';\n",
              "          element.innerHTML = '';\n",
              "          dataTable['output_type'] = 'display_data';\n",
              "          await google.colab.output.renderOutput(dataTable, element);\n",
              "          const docLink = document.createElement('div');\n",
              "          docLink.innerHTML = docLinkHtml;\n",
              "          element.appendChild(docLink);\n",
              "        }\n",
              "      </script>\n",
              "    </div>\n",
              "  </div>\n",
              "  "
            ]
          },
          "metadata": {},
          "execution_count": 42
        }
      ],
      "source": [
        "#This gives me my final table we had to do two seperate qry so we can get opponent_votes and\n",
        "#Team_votes and that the dataframe would be symmetric\n",
        "qry = f'''\n",
        "select\n",
        "*\n",
        "from\n",
        "(\n",
        "  select\n",
        "  id,\n",
        "  week_x as week,\n",
        "  team,\n",
        "  competitor_points as team_points,\n",
        "  opponent_x as opponent,\n",
        "  opponent_points,\n",
        "  rank as opponent_rank,\n",
        "  won,\n",
        "  loss,\n",
        "  total_win_count,\n",
        "  total_loss_count,\n",
        "  case when points is null then 0 else points end as opponent_votes,\n",
        "  case when offense_overall is null then AVG(offense_overall) over (partition by team) else offense_overall end as offense_overall,\n",
        "  case when offense_overall is null then AVG(defense_overall) over (partition by team) else defense_overall end as defense_overall\n",
        "  from\n",
        "  (\n",
        "    select\n",
        "    *\n",
        "    from\n",
        "    (\n",
        "      select\n",
        "      *,\n",
        "      SUM (loss) OVER (partition by team order by week_x) as total_loss_count,\n",
        "      SUM (won) OVER (partition by team order by week_x) as total_win_count\n",
        "      from\n",
        "      {Outcomes}\n",
        "    ) as A\n",
        "  left join\n",
        "      {Rank} as B\n",
        "      on\n",
        "      A.week_x = B.week\n",
        "      and\n",
        "      LOWER(LTRIM(RTRIM(A.opponent_x))) = LOWER(LTRIM(RTRIM(B.school)))\n",
        "  )\n",
        ")\n",
        "where opponent_points is not null and team_points is not null\n",
        "'''\n",
        "OR = bq.qry_to_df(qry)\n",
        "qry = f'''\n",
        "select\n",
        "*\n",
        "from\n",
        "(\n",
        "  select\n",
        "  id,\n",
        "  week_x as week,\n",
        "  team,\n",
        "  rank as team_rank,\n",
        "  competitor_points as team_points,\n",
        "  opponent_x as opponent,\n",
        "  opponent_points,\n",
        "  won,\n",
        "  loss,\n",
        "  total_win_count,\n",
        "  total_loss_count,\n",
        "  case when points is null then 0 else points end as team_votes,\n",
        "  case when offense_overall is null then AVG(offense_overall) over (partition by team) else offense_overall end as offense_overall,\n",
        "  case when offense_overall is null then AVG(defense_overall) over (partition by team) else defense_overall end as defense_overall\n",
        "  from\n",
        "  (\n",
        "    select\n",
        "    *\n",
        "    from\n",
        "    (\n",
        "      select\n",
        "      *,\n",
        "      SUM (loss) OVER (partition by team order by week_x) as total_loss_count,\n",
        "      SUM (won) OVER (partition by team order by week_x) as total_win_count\n",
        "      from\n",
        "      {Outcomes}\n",
        "    ) as A\n",
        "  left join\n",
        "      {Rank} as B\n",
        "      on\n",
        "      A.week_x = B.week\n",
        "      and\n",
        "      LOWER(LTRIM(RTRIM(A.team))) = LOWER(LTRIM(RTRIM(B.school)))\n",
        "  )\n",
        ")\n",
        "where opponent_points is not null and team_points is not null --Dropping virginias games that were canceled\n",
        "\n",
        "'''\n",
        "TR = bq.qry_to_df(qry)\n",
        "#TR means team_ranked and OR opponent_ranked\n",
        "final = pd.merge(OR,TR, on=['team','id','week'],how='left').drop(columns=['opponent_y','opponent_points_y','team_points_y','won_y','loss_y','offense_overall_y',\t'defense_overall_y',\t'total_win_count_y',\t'total_loss_count_y'])\n",
        "final2 = final.sort_values(by=['team', 'week'], ascending=[True, True])\n",
        "#My attempt to fix the bye weekend problem that was causing problems in my model\n",
        "final2['cumulative_count'] = final2.groupby('team').cumcount() + 1#This is to combat bye weeks.\n",
        "final2.set_index('cumulative_count',inplace=False)\n",
        "final2['difference_per_week'] = final2['team_votes'].diff(periods=1).fillna(0)\n",
        "#dropping week 1 and first game of the year for every team because we didnt have preseason stuff\n",
        "final2.drop(final2[(final2['cumulative_count'] ==1)].index, inplace=True)\n",
        "#dimensionality reduction\n",
        "final2['difference_votes']= final2['team_votes']-final2['opponent_votes']\n",
        "final2['point_difference'] = final2['team_points_x']-final2['opponent_points_x']\n",
        "final2['performance_overall'] = final2['offense_overall_x']-final2['defense_overall_x']\n",
        "#tbl = f\"tarletondatascience2022.drolet.final_table\"\n",
        "#bq.df_to_tbl(final2,tbl)\n",
        "final2"
      ]
    },
    {
      "cell_type": "code",
      "source": [
        "qry = f'''\n",
        "select\n",
        "performance_overall,\n",
        "point_difference,\n",
        "difference_votes,\n",
        "difference_per_week,\n",
        "opponent_rank,\n",
        "team_rank,\n",
        "team_votes,\n",
        "opponent_votes\n",
        "from\n",
        "{final_table}\n",
        "'''\n",
        "c = bq.qry_to_df(qry)\n",
        "c"
      ],
      "metadata": {
        "colab": {
          "base_uri": "https://localhost:8080/",
          "height": 531
        },
        "id": "D76r_XxKmTQT",
        "outputId": "434a4a46-e0a7-4033-d3b4-8ab983e85005"
      },
      "execution_count": null,
      "outputs": [
        {
          "output_type": "display_data",
          "data": {
            "text/plain": [
              "<IPython.core.display.HTML object>"
            ],
            "text/html": [
              "<pre>✔️ 1.67 s (2023-05-11T21:07:21/2023-05-11T21:07:23)</pre>"
            ]
          },
          "metadata": {}
        },
        {
          "output_type": "execute_result",
          "data": {
            "text/plain": [
              "       performance_overall  point_difference  difference_votes   \n",
              "index                                                            \n",
              "0                 0.171491                -3                 0  \\\n",
              "1                -0.171491                 3                 0   \n",
              "2                -0.476414               -30                 0   \n",
              "3                -0.195278               -11                 0   \n",
              "4                 0.052255                -3                 0   \n",
              "...                    ...               ...               ...   \n",
              "1477              0.181973                10                -2   \n",
              "1478              0.083455                19                74   \n",
              "1479              0.448513                17               381   \n",
              "1480              0.108924                21               145   \n",
              "1481              0.284653                23              -533   \n",
              "\n",
              "       difference_per_week  opponent_rank  team_rank  team_votes   \n",
              "index                                                              \n",
              "0                        0           <NA>       <NA>           0  \\\n",
              "1                        0           <NA>       <NA>           0   \n",
              "2                        0           <NA>       <NA>           0   \n",
              "3                        0           <NA>       <NA>           0   \n",
              "4                        0           <NA>       <NA>           0   \n",
              "...                    ...            ...        ...         ...   \n",
              "1477                     0             38       <NA>           0   \n",
              "1478                    46             34         26          80   \n",
              "1479                   110             22         18         551   \n",
              "1480                    60           <NA>         23         145   \n",
              "1481                   140              4         12         849   \n",
              "\n",
              "       opponent_votes  \n",
              "index                  \n",
              "0                   0  \n",
              "1                   0  \n",
              "2                   0  \n",
              "3                   0  \n",
              "4                   0  \n",
              "...               ...  \n",
              "1477                2  \n",
              "1478                6  \n",
              "1479              170  \n",
              "1480                0  \n",
              "1481             1382  \n",
              "\n",
              "[1482 rows x 8 columns]"
            ],
            "text/html": [
              "\n",
              "  <div id=\"df-06afbbe2-0c57-42dd-8bdc-339de3add402\">\n",
              "    <div class=\"colab-df-container\">\n",
              "      <div>\n",
              "<style scoped>\n",
              "    .dataframe tbody tr th:only-of-type {\n",
              "        vertical-align: middle;\n",
              "    }\n",
              "\n",
              "    .dataframe tbody tr th {\n",
              "        vertical-align: top;\n",
              "    }\n",
              "\n",
              "    .dataframe thead th {\n",
              "        text-align: right;\n",
              "    }\n",
              "</style>\n",
              "<table border=\"1\" class=\"dataframe\">\n",
              "  <thead>\n",
              "    <tr style=\"text-align: right;\">\n",
              "      <th></th>\n",
              "      <th>performance_overall</th>\n",
              "      <th>point_difference</th>\n",
              "      <th>difference_votes</th>\n",
              "      <th>difference_per_week</th>\n",
              "      <th>opponent_rank</th>\n",
              "      <th>team_rank</th>\n",
              "      <th>team_votes</th>\n",
              "      <th>opponent_votes</th>\n",
              "    </tr>\n",
              "    <tr>\n",
              "      <th>index</th>\n",
              "      <th></th>\n",
              "      <th></th>\n",
              "      <th></th>\n",
              "      <th></th>\n",
              "      <th></th>\n",
              "      <th></th>\n",
              "      <th></th>\n",
              "      <th></th>\n",
              "    </tr>\n",
              "  </thead>\n",
              "  <tbody>\n",
              "    <tr>\n",
              "      <th>0</th>\n",
              "      <td>0.171491</td>\n",
              "      <td>-3</td>\n",
              "      <td>0</td>\n",
              "      <td>0</td>\n",
              "      <td>&lt;NA&gt;</td>\n",
              "      <td>&lt;NA&gt;</td>\n",
              "      <td>0</td>\n",
              "      <td>0</td>\n",
              "    </tr>\n",
              "    <tr>\n",
              "      <th>1</th>\n",
              "      <td>-0.171491</td>\n",
              "      <td>3</td>\n",
              "      <td>0</td>\n",
              "      <td>0</td>\n",
              "      <td>&lt;NA&gt;</td>\n",
              "      <td>&lt;NA&gt;</td>\n",
              "      <td>0</td>\n",
              "      <td>0</td>\n",
              "    </tr>\n",
              "    <tr>\n",
              "      <th>2</th>\n",
              "      <td>-0.476414</td>\n",
              "      <td>-30</td>\n",
              "      <td>0</td>\n",
              "      <td>0</td>\n",
              "      <td>&lt;NA&gt;</td>\n",
              "      <td>&lt;NA&gt;</td>\n",
              "      <td>0</td>\n",
              "      <td>0</td>\n",
              "    </tr>\n",
              "    <tr>\n",
              "      <th>3</th>\n",
              "      <td>-0.195278</td>\n",
              "      <td>-11</td>\n",
              "      <td>0</td>\n",
              "      <td>0</td>\n",
              "      <td>&lt;NA&gt;</td>\n",
              "      <td>&lt;NA&gt;</td>\n",
              "      <td>0</td>\n",
              "      <td>0</td>\n",
              "    </tr>\n",
              "    <tr>\n",
              "      <th>4</th>\n",
              "      <td>0.052255</td>\n",
              "      <td>-3</td>\n",
              "      <td>0</td>\n",
              "      <td>0</td>\n",
              "      <td>&lt;NA&gt;</td>\n",
              "      <td>&lt;NA&gt;</td>\n",
              "      <td>0</td>\n",
              "      <td>0</td>\n",
              "    </tr>\n",
              "    <tr>\n",
              "      <th>...</th>\n",
              "      <td>...</td>\n",
              "      <td>...</td>\n",
              "      <td>...</td>\n",
              "      <td>...</td>\n",
              "      <td>...</td>\n",
              "      <td>...</td>\n",
              "      <td>...</td>\n",
              "      <td>...</td>\n",
              "    </tr>\n",
              "    <tr>\n",
              "      <th>1477</th>\n",
              "      <td>0.181973</td>\n",
              "      <td>10</td>\n",
              "      <td>-2</td>\n",
              "      <td>0</td>\n",
              "      <td>38</td>\n",
              "      <td>&lt;NA&gt;</td>\n",
              "      <td>0</td>\n",
              "      <td>2</td>\n",
              "    </tr>\n",
              "    <tr>\n",
              "      <th>1478</th>\n",
              "      <td>0.083455</td>\n",
              "      <td>19</td>\n",
              "      <td>74</td>\n",
              "      <td>46</td>\n",
              "      <td>34</td>\n",
              "      <td>26</td>\n",
              "      <td>80</td>\n",
              "      <td>6</td>\n",
              "    </tr>\n",
              "    <tr>\n",
              "      <th>1479</th>\n",
              "      <td>0.448513</td>\n",
              "      <td>17</td>\n",
              "      <td>381</td>\n",
              "      <td>110</td>\n",
              "      <td>22</td>\n",
              "      <td>18</td>\n",
              "      <td>551</td>\n",
              "      <td>170</td>\n",
              "    </tr>\n",
              "    <tr>\n",
              "      <th>1480</th>\n",
              "      <td>0.108924</td>\n",
              "      <td>21</td>\n",
              "      <td>145</td>\n",
              "      <td>60</td>\n",
              "      <td>&lt;NA&gt;</td>\n",
              "      <td>23</td>\n",
              "      <td>145</td>\n",
              "      <td>0</td>\n",
              "    </tr>\n",
              "    <tr>\n",
              "      <th>1481</th>\n",
              "      <td>0.284653</td>\n",
              "      <td>23</td>\n",
              "      <td>-533</td>\n",
              "      <td>140</td>\n",
              "      <td>4</td>\n",
              "      <td>12</td>\n",
              "      <td>849</td>\n",
              "      <td>1382</td>\n",
              "    </tr>\n",
              "  </tbody>\n",
              "</table>\n",
              "<p>1482 rows × 8 columns</p>\n",
              "</div>\n",
              "      <button class=\"colab-df-convert\" onclick=\"convertToInteractive('df-06afbbe2-0c57-42dd-8bdc-339de3add402')\"\n",
              "              title=\"Convert this dataframe to an interactive table.\"\n",
              "              style=\"display:none;\">\n",
              "        \n",
              "  <svg xmlns=\"http://www.w3.org/2000/svg\" height=\"24px\"viewBox=\"0 0 24 24\"\n",
              "       width=\"24px\">\n",
              "    <path d=\"M0 0h24v24H0V0z\" fill=\"none\"/>\n",
              "    <path d=\"M18.56 5.44l.94 2.06.94-2.06 2.06-.94-2.06-.94-.94-2.06-.94 2.06-2.06.94zm-11 1L8.5 8.5l.94-2.06 2.06-.94-2.06-.94L8.5 2.5l-.94 2.06-2.06.94zm10 10l.94 2.06.94-2.06 2.06-.94-2.06-.94-.94-2.06-.94 2.06-2.06.94z\"/><path d=\"M17.41 7.96l-1.37-1.37c-.4-.4-.92-.59-1.43-.59-.52 0-1.04.2-1.43.59L10.3 9.45l-7.72 7.72c-.78.78-.78 2.05 0 2.83L4 21.41c.39.39.9.59 1.41.59.51 0 1.02-.2 1.41-.59l7.78-7.78 2.81-2.81c.8-.78.8-2.07 0-2.86zM5.41 20L4 18.59l7.72-7.72 1.47 1.35L5.41 20z\"/>\n",
              "  </svg>\n",
              "      </button>\n",
              "      \n",
              "  <style>\n",
              "    .colab-df-container {\n",
              "      display:flex;\n",
              "      flex-wrap:wrap;\n",
              "      gap: 12px;\n",
              "    }\n",
              "\n",
              "    .colab-df-convert {\n",
              "      background-color: #E8F0FE;\n",
              "      border: none;\n",
              "      border-radius: 50%;\n",
              "      cursor: pointer;\n",
              "      display: none;\n",
              "      fill: #1967D2;\n",
              "      height: 32px;\n",
              "      padding: 0 0 0 0;\n",
              "      width: 32px;\n",
              "    }\n",
              "\n",
              "    .colab-df-convert:hover {\n",
              "      background-color: #E2EBFA;\n",
              "      box-shadow: 0px 1px 2px rgba(60, 64, 67, 0.3), 0px 1px 3px 1px rgba(60, 64, 67, 0.15);\n",
              "      fill: #174EA6;\n",
              "    }\n",
              "\n",
              "    [theme=dark] .colab-df-convert {\n",
              "      background-color: #3B4455;\n",
              "      fill: #D2E3FC;\n",
              "    }\n",
              "\n",
              "    [theme=dark] .colab-df-convert:hover {\n",
              "      background-color: #434B5C;\n",
              "      box-shadow: 0px 1px 3px 1px rgba(0, 0, 0, 0.15);\n",
              "      filter: drop-shadow(0px 1px 2px rgba(0, 0, 0, 0.3));\n",
              "      fill: #FFFFFF;\n",
              "    }\n",
              "  </style>\n",
              "\n",
              "      <script>\n",
              "        const buttonEl =\n",
              "          document.querySelector('#df-06afbbe2-0c57-42dd-8bdc-339de3add402 button.colab-df-convert');\n",
              "        buttonEl.style.display =\n",
              "          google.colab.kernel.accessAllowed ? 'block' : 'none';\n",
              "\n",
              "        async function convertToInteractive(key) {\n",
              "          const element = document.querySelector('#df-06afbbe2-0c57-42dd-8bdc-339de3add402');\n",
              "          const dataTable =\n",
              "            await google.colab.kernel.invokeFunction('convertToInteractive',\n",
              "                                                     [key], {});\n",
              "          if (!dataTable) return;\n",
              "\n",
              "          const docLinkHtml = 'Like what you see? Visit the ' +\n",
              "            '<a target=\"_blank\" href=https://colab.research.google.com/notebooks/data_table.ipynb>data table notebook</a>'\n",
              "            + ' to learn more about interactive tables.';\n",
              "          element.innerHTML = '';\n",
              "          dataTable['output_type'] = 'display_data';\n",
              "          await google.colab.output.renderOutput(dataTable, element);\n",
              "          const docLink = document.createElement('div');\n",
              "          docLink.innerHTML = docLinkHtml;\n",
              "          element.appendChild(docLink);\n",
              "        }\n",
              "      </script>\n",
              "    </div>\n",
              "  </div>\n",
              "  "
            ]
          },
          "metadata": {},
          "execution_count": 45
        }
      ]
    },
    {
      "cell_type": "code",
      "source": [
        "corr_matrix = c.corr()\n",
        "sns.heatmap(corr_matrix, annot=True)\n",
        "plt.show() #here is a correlation matrix so we can see how correlated all our features are."
      ],
      "metadata": {
        "id": "lk1ucCrglNpx",
        "outputId": "900274f6-df74-42c8-fe24-a8eb4209eee3",
        "colab": {
          "base_uri": "https://localhost:8080/",
          "height": 582
        }
      },
      "execution_count": null,
      "outputs": [
        {
          "output_type": "display_data",
          "data": {
            "text/plain": [
              "<IPython.core.display.HTML object>"
            ],
            "text/html": [
              "<pre>✔️ 466 ms (2023-05-11T21:07:26/2023-05-11T21:07:27)</pre>"
            ]
          },
          "metadata": {}
        },
        {
          "output_type": "display_data",
          "data": {
            "text/plain": [
              "<Figure size 640x480 with 2 Axes>"
            ],
            "image/png": "[encoded data removed]"
          },
          "metadata": {}
        }
      ]
    },
    {
      "cell_type": "markdown",
      "metadata": {
        "id": "sfik_wpRcPBQ"
      },
      "source": [
        "# Pipeline\n",
        "\n"
      ]
    },
    {
      "cell_type": "code",
      "execution_count": null,
      "metadata": {
        "colab": {
          "base_uri": "https://localhost:8080/",
          "height": 34
        },
        "id": "_RHYlZafcfah",
        "outputId": "271c35a1-7076-447b-e00a-dfb541a2dbee"
      },
      "outputs": [
        {
          "output_type": "display_data",
          "data": {
            "text/plain": [
              "<IPython.core.display.HTML object>"
            ],
            "text/html": [
              "<pre>✔️ 18.3 ms (2023-05-11T21:01:24/2023-05-11T21:01:24)</pre>"
            ]
          },
          "metadata": {}
        }
      ],
      "source": [
        "#id\tweek\tteam\topponent_x\tteam_points_x\topponent_points_x\twon_x\tloss_x\toffense_overall_x\tdefense_overall_x\ttotal_win_count_x\ttotal_loss_count_x\topponent_rank\topponent_votes\tteam_rank\tteam_votes\n",
        "#Numerical,print generilization score,r^2,ypred vs ytrue scatter, which variables actually matter use shaply values. shap.plots.bar(shap_values)\n",
        "#Shove into the index\n",
        "%reload_ext autotime\n",
        "import sklearn, shap, matplotlib.pyplot as plt, seaborn as sns\n",
        "from sklearn.datasets import fetch_openml\n",
        "from sklearn.preprocessing import OneHotEncoder, MinMaxScaler\n",
        "from sklearn.impute import KNNImputer\n",
        "from sklearn.neighbors import KNeighborsRegressor\n",
        "from sklearn.ensemble import RandomForestRegressor,HistGradientBoostingRegressor\n",
        "from sklearn.pipeline import Pipeline\n",
        "from sklearn.cluster import KMeans\n",
        "from sklearn.ensemble import HistGradientBoostingRegressor\n",
        "from sklearn.compose import ColumnTransformer\n",
        "from sklearn.model_selection import train_test_split, GridSearchCV, RandomizedSearchCV\n",
        "from sklearn.preprocessing import StandardScaler\n",
        "from sklearn.linear_model import LogisticRegression\n",
        "from sklearn.decomposition import PCA\n",
        "from sklearn.metrics import classification_report, ConfusionMatrixDisplay, RocCurveDisplay\n",
        "sklearn.set_config(transform_output= \"pandas\")\n",
        "def disp(x):\n",
        "  display(X.head(3))\n",
        "seed = 3\n",
        "target = 'difference_per_week'\n",
        "ncaa_features=['performance_overall']\n",
        "numeric_features = ['point_difference','difference_votes']\n",
        "all_features = ['point_difference','difference_votes','performance_overall']\n",
        "#difference per week is the difference of votes each team had per week\n",
        "#difference of votes are the difference of the votes opponent and team had\n",
        "#performance overall is defense and offense stats combined\n",
        "#point difference is the difference between team and opponent score\n",
        "mask = final2[target].notnull()\n",
        "#df_all = df.loc[mask, all]\n",
        "X = final2.loc[mask,all_features]\n",
        "#z = final.loc[mask,ncaa_features]\n",
        "y = final2.loc[mask,target]"
      ]
    },
    {
      "cell_type": "code",
      "execution_count": null,
      "metadata": {
        "colab": {
          "base_uri": "https://localhost:8080/",
          "height": 171
        },
        "id": "SbDHSJiovg4h",
        "outputId": "b416b19e-9ef2-410f-f6e7-3a653d84f1a0"
      },
      "outputs": [
        {
          "output_type": "display_data",
          "data": {
            "text/plain": [
              "<IPython.core.display.HTML object>"
            ],
            "text/html": [
              "<pre>✔️ 38.1 ms (2023-05-03T02:58:44/2023-05-03T02:58:44)</pre>"
            ]
          },
          "metadata": {}
        },
        {
          "output_type": "display_data",
          "data": {
            "text/plain": [
              "Pipeline(steps=[('combined',\n",
              "                 ColumnTransformer(transformers=[('numeric',\n",
              "                                                  Pipeline(steps=[('scaler',\n",
              "                                                                   MinMaxScaler())]),\n",
              "                                                  ['point_difference',\n",
              "                                                   'difference_votes']),\n",
              "                                                 ('ncaa',\n",
              "                                                  Pipeline(steps=[('imputer',\n",
              "                                                                   KNNImputer())]),\n",
              "                                                  ['performance_overall'])]))])"
            ],
            "text/html": [
              "<style>#sk-container-id-29 {color: black;background-color: white;}#sk-container-id-29 pre{padding: 0;}#sk-container-id-29 div.sk-toggleable {background-color: white;}#sk-container-id-29 label.sk-toggleable__label {cursor: pointer;display: block;width: 100%;margin-bottom: 0;padding: 0.3em;box-sizing: border-box;text-align: center;}#sk-container-id-29 label.sk-toggleable__label-arrow:before {content: \"▸\";float: left;margin-right: 0.25em;color: #696969;}#sk-container-id-29 label.sk-toggleable__label-arrow:hover:before {color: black;}#sk-container-id-29 div.sk-estimator:hover label.sk-toggleable__label-arrow:before {color: black;}#sk-container-id-29 div.sk-toggleable__content {max-height: 0;max-width: 0;overflow: hidden;text-align: left;background-color: #f0f8ff;}#sk-container-id-29 div.sk-toggleable__content pre {margin: 0.2em;color: black;border-radius: 0.25em;background-color: #f0f8ff;}#sk-container-id-29 input.sk-toggleable__control:checked~div.sk-toggleable__content {max-height: 200px;max-width: 100%;overflow: auto;}#sk-container-id-29 input.sk-toggleable__control:checked~label.sk-toggleable__label-arrow:before {content: \"▾\";}#sk-container-id-29 div.sk-estimator input.sk-toggleable__control:checked~label.sk-toggleable__label {background-color: #d4ebff;}#sk-container-id-29 div.sk-label input.sk-toggleable__control:checked~label.sk-toggleable__label {background-color: #d4ebff;}#sk-container-id-29 input.sk-hidden--visually {border: 0;clip: rect(1px 1px 1px 1px);clip: rect(1px, 1px, 1px, 1px);height: 1px;margin: -1px;overflow: hidden;padding: 0;position: absolute;width: 1px;}#sk-container-id-29 div.sk-estimator {font-family: monospace;background-color: #f0f8ff;border: 1px dotted black;border-radius: 0.25em;box-sizing: border-box;margin-bottom: 0.5em;}#sk-container-id-29 div.sk-estimator:hover {background-color: #d4ebff;}#sk-container-id-29 div.sk-parallel-item::after {content: \"\";width: 100%;border-bottom: 1px solid gray;flex-grow: 1;}#sk-container-id-29 div.sk-label:hover label.sk-toggleable__label {background-color: #d4ebff;}#sk-container-id-29 div.sk-serial::before {content: \"\";position: absolute;border-left: 1px solid gray;box-sizing: border-box;top: 0;bottom: 0;left: 50%;z-index: 0;}#sk-container-id-29 div.sk-serial {display: flex;flex-direction: column;align-items: center;background-color: white;padding-right: 0.2em;padding-left: 0.2em;position: relative;}#sk-container-id-29 div.sk-item {position: relative;z-index: 1;}#sk-container-id-29 div.sk-parallel {display: flex;align-items: stretch;justify-content: center;background-color: white;position: relative;}#sk-container-id-29 div.sk-item::before, #sk-container-id-29 div.sk-parallel-item::before {content: \"\";position: absolute;border-left: 1px solid gray;box-sizing: border-box;top: 0;bottom: 0;left: 50%;z-index: -1;}#sk-container-id-29 div.sk-parallel-item {display: flex;flex-direction: column;z-index: 1;position: relative;background-color: white;}#sk-container-id-29 div.sk-parallel-item:first-child::after {align-self: flex-end;width: 50%;}#sk-container-id-29 div.sk-parallel-item:last-child::after {align-self: flex-start;width: 50%;}#sk-container-id-29 div.sk-parallel-item:only-child::after {width: 0;}#sk-container-id-29 div.sk-dashed-wrapped {border: 1px dashed gray;margin: 0 0.4em 0.5em 0.4em;box-sizing: border-box;padding-bottom: 0.4em;background-color: white;}#sk-container-id-29 div.sk-label label {font-family: monospace;font-weight: bold;display: inline-block;line-height: 1.2em;}#sk-container-id-29 div.sk-label-container {text-align: center;}#sk-container-id-29 div.sk-container {/* jupyter's `normalize.less` sets `[hidden] { display: none; }` but bootstrap.min.css set `[hidden] { display: none !important; }` so we also need the `!important` here to be able to override the default hidden behavior on the sphinx rendered scikit-learn.org. See: https://github.com/scikit-learn/scikit-learn/issues/21755 */display: inline-block !important;position: relative;}#sk-container-id-29 div.sk-text-repr-fallback {display: none;}</style><div id=\"sk-container-id-29\" class=\"sk-top-container\"><div class=\"sk-text-repr-fallback\"><pre>Pipeline(steps=[(&#x27;combined&#x27;,\n",
              "                 ColumnTransformer(transformers=[(&#x27;numeric&#x27;,\n",
              "                                                  Pipeline(steps=[(&#x27;scaler&#x27;,\n",
              "                                                                   MinMaxScaler())]),\n",
              "                                                  [&#x27;point_difference&#x27;,\n",
              "                                                   &#x27;difference_votes&#x27;]),\n",
              "                                                 (&#x27;ncaa&#x27;,\n",
              "                                                  Pipeline(steps=[(&#x27;imputer&#x27;,\n",
              "                                                                   KNNImputer())]),\n",
              "                                                  [&#x27;performance_overall&#x27;])]))])</pre><b>In a Jupyter environment, please rerun this cell to show the HTML representation or trust the notebook. <br />On GitHub, the HTML representation is unable to render, please try loading this page with nbviewer.org.</b></div><div class=\"sk-container\" hidden><div class=\"sk-item sk-dashed-wrapped\"><div class=\"sk-label-container\"><div class=\"sk-label sk-toggleable\"><input class=\"sk-toggleable__control sk-hidden--visually\" id=\"sk-estimator-id-148\" type=\"checkbox\" ><label for=\"sk-estimator-id-148\" class=\"sk-toggleable__label sk-toggleable__label-arrow\">Pipeline</label><div class=\"sk-toggleable__content\"><pre>Pipeline(steps=[(&#x27;combined&#x27;,\n",
              "                 ColumnTransformer(transformers=[(&#x27;numeric&#x27;,\n",
              "                                                  Pipeline(steps=[(&#x27;scaler&#x27;,\n",
              "                                                                   MinMaxScaler())]),\n",
              "                                                  [&#x27;point_difference&#x27;,\n",
              "                                                   &#x27;difference_votes&#x27;]),\n",
              "                                                 (&#x27;ncaa&#x27;,\n",
              "                                                  Pipeline(steps=[(&#x27;imputer&#x27;,\n",
              "                                                                   KNNImputer())]),\n",
              "                                                  [&#x27;performance_overall&#x27;])]))])</pre></div></div></div><div class=\"sk-serial\"><div class=\"sk-item sk-dashed-wrapped\"><div class=\"sk-label-container\"><div class=\"sk-label sk-toggleable\"><input class=\"sk-toggleable__control sk-hidden--visually\" id=\"sk-estimator-id-149\" type=\"checkbox\" ><label for=\"sk-estimator-id-149\" class=\"sk-toggleable__label sk-toggleable__label-arrow\">combined: ColumnTransformer</label><div class=\"sk-toggleable__content\"><pre>ColumnTransformer(transformers=[(&#x27;numeric&#x27;,\n",
              "                                 Pipeline(steps=[(&#x27;scaler&#x27;, MinMaxScaler())]),\n",
              "                                 [&#x27;point_difference&#x27;, &#x27;difference_votes&#x27;]),\n",
              "                                (&#x27;ncaa&#x27;,\n",
              "                                 Pipeline(steps=[(&#x27;imputer&#x27;, KNNImputer())]),\n",
              "                                 [&#x27;performance_overall&#x27;])])</pre></div></div></div><div class=\"sk-parallel\"><div class=\"sk-parallel-item\"><div class=\"sk-item\"><div class=\"sk-label-container\"><div class=\"sk-label sk-toggleable\"><input class=\"sk-toggleable__control sk-hidden--visually\" id=\"sk-estimator-id-150\" type=\"checkbox\" ><label for=\"sk-estimator-id-150\" class=\"sk-toggleable__label sk-toggleable__label-arrow\">numeric</label><div class=\"sk-toggleable__content\"><pre>[&#x27;point_difference&#x27;, &#x27;difference_votes&#x27;]</pre></div></div></div><div class=\"sk-serial\"><div class=\"sk-item\"><div class=\"sk-serial\"><div class=\"sk-item\"><div class=\"sk-estimator sk-toggleable\"><input class=\"sk-toggleable__control sk-hidden--visually\" id=\"sk-estimator-id-151\" type=\"checkbox\" ><label for=\"sk-estimator-id-151\" class=\"sk-toggleable__label sk-toggleable__label-arrow\">MinMaxScaler</label><div class=\"sk-toggleable__content\"><pre>MinMaxScaler()</pre></div></div></div></div></div></div></div></div><div class=\"sk-parallel-item\"><div class=\"sk-item\"><div class=\"sk-label-container\"><div class=\"sk-label sk-toggleable\"><input class=\"sk-toggleable__control sk-hidden--visually\" id=\"sk-estimator-id-152\" type=\"checkbox\" ><label for=\"sk-estimator-id-152\" class=\"sk-toggleable__label sk-toggleable__label-arrow\">ncaa</label><div class=\"sk-toggleable__content\"><pre>[&#x27;performance_overall&#x27;]</pre></div></div></div><div class=\"sk-serial\"><div class=\"sk-item\"><div class=\"sk-serial\"><div class=\"sk-item\"><div class=\"sk-estimator sk-toggleable\"><input class=\"sk-toggleable__control sk-hidden--visually\" id=\"sk-estimator-id-153\" type=\"checkbox\" ><label for=\"sk-estimator-id-153\" class=\"sk-toggleable__label sk-toggleable__label-arrow\">KNNImputer</label><div class=\"sk-toggleable__content\"><pre>KNNImputer()</pre></div></div></div></div></div></div></div></div></div></div></div></div></div></div>"
            ]
          },
          "metadata": {}
        }
      ],
      "source": [
        "numeric_prep = Pipeline(steps = [('scaler',MinMaxScaler())])#StandardScaler()MinMaxScaler\n",
        "ncaa_prep = Pipeline(steps=[('imputer',KNNImputer())])\n",
        "combined_prep= ColumnTransformer(transformers=[('numeric',numeric_prep,numeric_features),('ncaa',ncaa_prep,ncaa_features)])#('ncaa',ncaa_prep,ncaa_features)\n",
        "prep = Pipeline(steps = [('combined',combined_prep)])\n",
        "display(prep)\n",
        "\n",
        "def run_shap(model, n_clusters=10, n_samples=100):\n",
        "    m = model.best_estimator_  # get best estimator from searchcv\n",
        "    preproc, learner = m['prep'], m['learner']  # get preprocessor and learner as separate objects\n",
        "    Z_holdout = preproc.transform(X_holdout).sample(n=min(n_samples, len(X_holdout)), random_state=seed)  # preprocess X_holdout and select sample\n",
        "    Z_train   = preproc.transform(X_train)  # preprocess X_train\n",
        "    try:\n",
        "        f = learner.predict_proba\n",
        "        fcn = lambda x: f(x)[:,0]  # for classifier, use probability of class 0\n",
        "    except AttributeError:\n",
        "        fcn = learner.predict  # for regressor, use prediction\n",
        "\n",
        "    with contextlib.redirect_stderr(open(os.devnull, 'w')):  # suppress some annoying and unneccessary warnings\n",
        "        # shap will take a very long time if we use the entire train set for background.\n",
        "        # Instead we use the centers from a kmeans clustering of Z_train\n",
        "        clusterer = KMeans(n_clusters=n_clusters, random_state=seed).fit(Z_train)  # fit kmeans clusterer\n",
        "        centers = clusterer.cluster_centers_\n",
        "        try:\n",
        "            explainer = shap.Explainer(fcn, centers)  # create shap explainer using learn and cluster centers from Z_train\n",
        "            shap_values = explainer(Z_holdout)  # compute shap values for Z_holdout\n",
        "        except:\n",
        "            print('Exception encountered trying to use shap.Explainer, reverting to shap.KernelExplainer')\n",
        "            explainer = shap.KernelExplainer(fcn, centers)  # create shap explainer using learn and cluster centers from Z_train\n",
        "            shap_values = explainer.shap_values(Z_holdout)  # compute shap values for Z_holdout\n",
        "    S = pd.DataFrame(shap_values.values, columns=shap_values.feature_names)  # df of shap values\n",
        "    srt = S.abs().median().argsort()[::-1]  # order columns by abs median\n",
        "    S = S.iloc[:,srt]\n",
        "    L = S.abs().apply(np.log1p)  # control fliers using L = ln(1+|S|)\n",
        "\n",
        "    # analyze & plot L\n",
        "    sns.stripplot(L * np.sign(S), orient='h', size=4)\n",
        "    plt.title('ln1p SHAP signed')\n",
        "    plt.show()\n",
        "    sns.boxplot(L, orient='h')\n",
        "    plt.title('ln1p SHAP absolute')\n",
        "    plt.show()\n",
        "    display(L.describe().T)  # print summary stats\n",
        "    return S"
      ]
    },
    {
      "cell_type": "code",
      "execution_count": null,
      "metadata": {
        "colab": {
          "base_uri": "https://localhost:8080/",
          "height": 171
        },
        "id": "VJGF-ZZus_ls",
        "outputId": "60440393-c213-412d-95ee-9fcda08fc9ea"
      },
      "outputs": [
        {
          "output_type": "display_data",
          "data": {
            "text/plain": [
              "<IPython.core.display.HTML object>"
            ],
            "text/html": [
              "<pre>✔️ 265 ms (2023-05-03T02:59:29/2023-05-03T02:59:30)</pre>"
            ]
          },
          "metadata": {}
        },
        {
          "output_type": "display_data",
          "data": {
            "text/plain": [
              "Pipeline(steps=[('combined',\n",
              "                 ColumnTransformer(transformers=[('numeric',\n",
              "                                                  Pipeline(steps=[('scaler',\n",
              "                                                                   MinMaxScaler())]),\n",
              "                                                  ['point_difference',\n",
              "                                                   'difference_votes']),\n",
              "                                                 ('ncaa',\n",
              "                                                  Pipeline(steps=[('imputer',\n",
              "                                                                   KNNImputer())]),\n",
              "                                                  ['performance_overall'])]))])"
            ],
            "text/html": [
              "<style>#sk-container-id-31 {color: black;background-color: white;}#sk-container-id-31 pre{padding: 0;}#sk-container-id-31 div.sk-toggleable {background-color: white;}#sk-container-id-31 label.sk-toggleable__label {cursor: pointer;display: block;width: 100%;margin-bottom: 0;padding: 0.3em;box-sizing: border-box;text-align: center;}#sk-container-id-31 label.sk-toggleable__label-arrow:before {content: \"▸\";float: left;margin-right: 0.25em;color: #696969;}#sk-container-id-31 label.sk-toggleable__label-arrow:hover:before {color: black;}#sk-container-id-31 div.sk-estimator:hover label.sk-toggleable__label-arrow:before {color: black;}#sk-container-id-31 div.sk-toggleable__content {max-height: 0;max-width: 0;overflow: hidden;text-align: left;background-color: #f0f8ff;}#sk-container-id-31 div.sk-toggleable__content pre {margin: 0.2em;color: black;border-radius: 0.25em;background-color: #f0f8ff;}#sk-container-id-31 input.sk-toggleable__control:checked~div.sk-toggleable__content {max-height: 200px;max-width: 100%;overflow: auto;}#sk-container-id-31 input.sk-toggleable__control:checked~label.sk-toggleable__label-arrow:before {content: \"▾\";}#sk-container-id-31 div.sk-estimator input.sk-toggleable__control:checked~label.sk-toggleable__label {background-color: #d4ebff;}#sk-container-id-31 div.sk-label input.sk-toggleable__control:checked~label.sk-toggleable__label {background-color: #d4ebff;}#sk-container-id-31 input.sk-hidden--visually {border: 0;clip: rect(1px 1px 1px 1px);clip: rect(1px, 1px, 1px, 1px);height: 1px;margin: -1px;overflow: hidden;padding: 0;position: absolute;width: 1px;}#sk-container-id-31 div.sk-estimator {font-family: monospace;background-color: #f0f8ff;border: 1px dotted black;border-radius: 0.25em;box-sizing: border-box;margin-bottom: 0.5em;}#sk-container-id-31 div.sk-estimator:hover {background-color: #d4ebff;}#sk-container-id-31 div.sk-parallel-item::after {content: \"\";width: 100%;border-bottom: 1px solid gray;flex-grow: 1;}#sk-container-id-31 div.sk-label:hover label.sk-toggleable__label {background-color: #d4ebff;}#sk-container-id-31 div.sk-serial::before {content: \"\";position: absolute;border-left: 1px solid gray;box-sizing: border-box;top: 0;bottom: 0;left: 50%;z-index: 0;}#sk-container-id-31 div.sk-serial {display: flex;flex-direction: column;align-items: center;background-color: white;padding-right: 0.2em;padding-left: 0.2em;position: relative;}#sk-container-id-31 div.sk-item {position: relative;z-index: 1;}#sk-container-id-31 div.sk-parallel {display: flex;align-items: stretch;justify-content: center;background-color: white;position: relative;}#sk-container-id-31 div.sk-item::before, #sk-container-id-31 div.sk-parallel-item::before {content: \"\";position: absolute;border-left: 1px solid gray;box-sizing: border-box;top: 0;bottom: 0;left: 50%;z-index: -1;}#sk-container-id-31 div.sk-parallel-item {display: flex;flex-direction: column;z-index: 1;position: relative;background-color: white;}#sk-container-id-31 div.sk-parallel-item:first-child::after {align-self: flex-end;width: 50%;}#sk-container-id-31 div.sk-parallel-item:last-child::after {align-self: flex-start;width: 50%;}#sk-container-id-31 div.sk-parallel-item:only-child::after {width: 0;}#sk-container-id-31 div.sk-dashed-wrapped {border: 1px dashed gray;margin: 0 0.4em 0.5em 0.4em;box-sizing: border-box;padding-bottom: 0.4em;background-color: white;}#sk-container-id-31 div.sk-label label {font-family: monospace;font-weight: bold;display: inline-block;line-height: 1.2em;}#sk-container-id-31 div.sk-label-container {text-align: center;}#sk-container-id-31 div.sk-container {/* jupyter's `normalize.less` sets `[hidden] { display: none; }` but bootstrap.min.css set `[hidden] { display: none !important; }` so we also need the `!important` here to be able to override the default hidden behavior on the sphinx rendered scikit-learn.org. See: https://github.com/scikit-learn/scikit-learn/issues/21755 */display: inline-block !important;position: relative;}#sk-container-id-31 div.sk-text-repr-fallback {display: none;}</style><div id=\"sk-container-id-31\" class=\"sk-top-container\"><div class=\"sk-text-repr-fallback\"><pre>Pipeline(steps=[(&#x27;combined&#x27;,\n",
              "                 ColumnTransformer(transformers=[(&#x27;numeric&#x27;,\n",
              "                                                  Pipeline(steps=[(&#x27;scaler&#x27;,\n",
              "                                                                   MinMaxScaler())]),\n",
              "                                                  [&#x27;point_difference&#x27;,\n",
              "                                                   &#x27;difference_votes&#x27;]),\n",
              "                                                 (&#x27;ncaa&#x27;,\n",
              "                                                  Pipeline(steps=[(&#x27;imputer&#x27;,\n",
              "                                                                   KNNImputer())]),\n",
              "                                                  [&#x27;performance_overall&#x27;])]))])</pre><b>In a Jupyter environment, please rerun this cell to show the HTML representation or trust the notebook. <br />On GitHub, the HTML representation is unable to render, please try loading this page with nbviewer.org.</b></div><div class=\"sk-container\" hidden><div class=\"sk-item sk-dashed-wrapped\"><div class=\"sk-label-container\"><div class=\"sk-label sk-toggleable\"><input class=\"sk-toggleable__control sk-hidden--visually\" id=\"sk-estimator-id-160\" type=\"checkbox\" ><label for=\"sk-estimator-id-160\" class=\"sk-toggleable__label sk-toggleable__label-arrow\">Pipeline</label><div class=\"sk-toggleable__content\"><pre>Pipeline(steps=[(&#x27;combined&#x27;,\n",
              "                 ColumnTransformer(transformers=[(&#x27;numeric&#x27;,\n",
              "                                                  Pipeline(steps=[(&#x27;scaler&#x27;,\n",
              "                                                                   MinMaxScaler())]),\n",
              "                                                  [&#x27;point_difference&#x27;,\n",
              "                                                   &#x27;difference_votes&#x27;]),\n",
              "                                                 (&#x27;ncaa&#x27;,\n",
              "                                                  Pipeline(steps=[(&#x27;imputer&#x27;,\n",
              "                                                                   KNNImputer())]),\n",
              "                                                  [&#x27;performance_overall&#x27;])]))])</pre></div></div></div><div class=\"sk-serial\"><div class=\"sk-item sk-dashed-wrapped\"><div class=\"sk-label-container\"><div class=\"sk-label sk-toggleable\"><input class=\"sk-toggleable__control sk-hidden--visually\" id=\"sk-estimator-id-161\" type=\"checkbox\" ><label for=\"sk-estimator-id-161\" class=\"sk-toggleable__label sk-toggleable__label-arrow\">combined: ColumnTransformer</label><div class=\"sk-toggleable__content\"><pre>ColumnTransformer(transformers=[(&#x27;numeric&#x27;,\n",
              "                                 Pipeline(steps=[(&#x27;scaler&#x27;, MinMaxScaler())]),\n",
              "                                 [&#x27;point_difference&#x27;, &#x27;difference_votes&#x27;]),\n",
              "                                (&#x27;ncaa&#x27;,\n",
              "                                 Pipeline(steps=[(&#x27;imputer&#x27;, KNNImputer())]),\n",
              "                                 [&#x27;performance_overall&#x27;])])</pre></div></div></div><div class=\"sk-parallel\"><div class=\"sk-parallel-item\"><div class=\"sk-item\"><div class=\"sk-label-container\"><div class=\"sk-label sk-toggleable\"><input class=\"sk-toggleable__control sk-hidden--visually\" id=\"sk-estimator-id-162\" type=\"checkbox\" ><label for=\"sk-estimator-id-162\" class=\"sk-toggleable__label sk-toggleable__label-arrow\">numeric</label><div class=\"sk-toggleable__content\"><pre>[&#x27;point_difference&#x27;, &#x27;difference_votes&#x27;]</pre></div></div></div><div class=\"sk-serial\"><div class=\"sk-item\"><div class=\"sk-serial\"><div class=\"sk-item\"><div class=\"sk-estimator sk-toggleable\"><input class=\"sk-toggleable__control sk-hidden--visually\" id=\"sk-estimator-id-163\" type=\"checkbox\" ><label for=\"sk-estimator-id-163\" class=\"sk-toggleable__label sk-toggleable__label-arrow\">MinMaxScaler</label><div class=\"sk-toggleable__content\"><pre>MinMaxScaler()</pre></div></div></div></div></div></div></div></div><div class=\"sk-parallel-item\"><div class=\"sk-item\"><div class=\"sk-label-container\"><div class=\"sk-label sk-toggleable\"><input class=\"sk-toggleable__control sk-hidden--visually\" id=\"sk-estimator-id-164\" type=\"checkbox\" ><label for=\"sk-estimator-id-164\" class=\"sk-toggleable__label sk-toggleable__label-arrow\">ncaa</label><div class=\"sk-toggleable__content\"><pre>[&#x27;performance_overall&#x27;]</pre></div></div></div><div class=\"sk-serial\"><div class=\"sk-item\"><div class=\"sk-serial\"><div class=\"sk-item\"><div class=\"sk-estimator sk-toggleable\"><input class=\"sk-toggleable__control sk-hidden--visually\" id=\"sk-estimator-id-165\" type=\"checkbox\" ><label for=\"sk-estimator-id-165\" class=\"sk-toggleable__label sk-toggleable__label-arrow\">KNNImputer</label><div class=\"sk-toggleable__content\"><pre>KNNImputer()</pre></div></div></div></div></div></div></div></div></div></div></div></div></div></div>"
            ]
          },
          "metadata": {}
        }
      ],
      "source": [
        "X_train, X_holdout, y_train, y_holdout = train_test_split(X, y, test_size=0.10, random_state=seed)\n",
        "display(prep)\n",
        "# dictionary to store models\n",
        "models = dict()\n",
        "\n",
        "\n",
        "# # dictionary to store models\n",
        "regessors = dict()\n",
        "\n",
        "# # function to make training with different supervised learners convenient\n",
        "def run_model(learner, hyperparameters):\n",
        "#     # append final learner to pipeline\n",
        "    estimator = Pipeline(steps = [('prep', prep), ('learner', learner)])\n",
        "\n",
        "#     # prepare to tune hyperparameters using either exhaustive grid search or randomized grid search\n",
        "    model = GridSearchCV(estimator, hyperparameters, cv=5, scoring='r2')\n",
        "    #model = RandomizedSearchCV(estimator, hyperparameters, cv=5, scoring='r2')\n",
        "\n",
        "    # give model a name based on its learner\n",
        "    model.name = str(learner).split('(')[0]\n",
        "\n",
        "    print(f'Fitting {model.name} with hyperparameter grid:', hyperparameters)\n",
        "    model.fit(X_train, y_train)\n",
        "\n",
        "    # Apply best model to holdout set to estimate generalization performance\n",
        "    model.generalization_score = model.score(X_holdout, y_holdout)\n",
        "    print(f'best model: R^2={model.generalization_score:.3f} with hyperparameters {model.best_params_}')\n",
        "\n",
        "    # plot pred v true\n",
        "    y_pred = model.predict(X_holdout)\n",
        "    p = [np.min([y_pred, y_holdout]), np.max([y_pred, y_holdout])]\n",
        "    plt.plot(p, p, 'black')\n",
        "    plt.plot(y_holdout, y_pred, '.')\n",
        "    plt.show()"
      ]
    },
    {
      "cell_type": "markdown",
      "metadata": {
        "id": "Iup9DymKYimE"
      },
      "source": [
        "# Supervised Learning Model"
      ]
    },
    {
      "cell_type": "markdown",
      "metadata": {
        "id": "XpCL7QIUWN5I"
      },
      "source": [
        "##Random Forest Regressor"
      ]
    },
    {
      "cell_type": "code",
      "execution_count": null,
      "metadata": {
        "colab": {
          "base_uri": "https://localhost:8080/",
          "height": 501
        },
        "id": "Vu-JKOCJQpNd",
        "outputId": "ee6eaf69-ce7f-4680-af17-3ff96679d226"
      },
      "outputs": [
        {
          "output_type": "display_data",
          "data": {
            "text/plain": [
              "<IPython.core.display.HTML object>"
            ],
            "text/html": [
              "<pre>✔️ 3 min 6 s (2023-05-03T02:59:37/2023-05-03T03:02:43)</pre>"
            ]
          },
          "metadata": {}
        },
        {
          "output_type": "stream",
          "name": "stdout",
          "text": [
            "Fitting RandomForestRegressor with hyperparameter grid: {'prep__combined__ncaa__imputer__n_neighbors': array([ 5,  6,  7,  8,  9, 10, 11, 12, 13, 14]), 'learner__max_depth': array([ 5,  6,  7,  8,  9, 10, 11, 12, 13, 14])}\n",
            "best model: R^2=-0.003 with hyperparameters {'learner__max_depth': 5, 'prep__combined__ncaa__imputer__n_neighbors': 5}\n"
          ]
        },
        {
          "output_type": "display_data",
          "data": {
            "text/plain": [
              "<Figure size 640x480 with 1 Axes>"
            ],
            "image/png": "[encoded data removed]"
          },
          "metadata": {}
        }
      ],
      "source": [
        "# Random Forest\n",
        "from sklearn.ensemble import RandomForestRegressor\n",
        "learner = RandomForestRegressor(random_state=seed)\n",
        "hyperparameters = {\n",
        "    'prep__combined__ncaa__imputer__n_neighbors': np.arange(5,15),\n",
        "    'learner__max_depth': np.arange(5,15),\n",
        "}\n",
        "model = run_model(learner, hyperparameters)\n",
        "regessors[model] = model\n",
        "#shap_values = run_shap(model)"
      ]
    },
    {
      "cell_type": "markdown",
      "metadata": {
        "id": "n6HXOJhBW6zo"
      },
      "source": [
        "## KNearest Neigbhors Regression"
      ]
    },
    {
      "cell_type": "code",
      "execution_count": null,
      "metadata": {
        "colab": {
          "base_uri": "https://localhost:8080/",
          "height": 501
        },
        "id": "EyKThOopuy2J",
        "outputId": "1627c252-f991-41ac-8552-cbf343cb4f7f"
      },
      "outputs": [
        {
          "output_type": "display_data",
          "data": {
            "text/plain": [
              "<IPython.core.display.HTML object>"
            ],
            "text/html": [
              "<pre>✔️ 6.48 s (2023-05-03T03:04:13/2023-05-03T03:04:20)</pre>"
            ]
          },
          "metadata": {}
        },
        {
          "output_type": "stream",
          "name": "stdout",
          "text": [
            "Fitting KNeighborsRegressor with hyperparameter grid: {'prep__combined__ncaa__imputer__n_neighbors': array([10, 11, 12, 13, 14]), 'learner__n_neighbors': array([10, 11, 12, 13, 14])}\n",
            "best model: R^2=-0.007 with hyperparameters {'learner__n_neighbors': 14, 'prep__combined__ncaa__imputer__n_neighbors': 10}\n"
          ]
        },
        {
          "output_type": "display_data",
          "data": {
            "text/plain": [
              "<Figure size 640x480 with 1 Axes>"
            ],
            "image/png": "[encoded data removed]"
          },
          "metadata": {}
        }
      ],
      "source": [
        "from sklearn.neighbors import KNeighborsRegressor\n",
        "learner = KNeighborsRegressor()\n",
        "hyperparameters = {\n",
        "    'prep__combined__ncaa__imputer__n_neighbors':np.arange(10,15),\n",
        "    'learner__n_neighbors':np.arange(10,15) ,\n",
        "}\n",
        "model = run_model(learner, hyperparameters)\n",
        "regessors[model] = model\n",
        "# shap_values=run_shap(model)"
      ]
    },
    {
      "cell_type": "markdown",
      "metadata": {
        "id": "AjRofgiKX_7P"
      },
      "source": [
        "## Linear Regression"
      ]
    },
    {
      "cell_type": "code",
      "execution_count": null,
      "metadata": {
        "colab": {
          "base_uri": "https://localhost:8080/",
          "height": 501
        },
        "id": "sbZKnObcXJ8i",
        "outputId": "819a092c-dfd8-4c13-d324-787a50564948"
      },
      "outputs": [
        {
          "output_type": "display_data",
          "data": {
            "text/plain": [
              "<IPython.core.display.HTML object>"
            ],
            "text/html": [
              "<pre>✔️ 17.6 s (2023-05-03T03:04:28/2023-05-03T03:04:46)</pre>"
            ]
          },
          "metadata": {}
        },
        {
          "output_type": "stream",
          "name": "stdout",
          "text": [
            "Fitting LinearRegression with hyperparameter grid: {'prep__combined__ncaa__imputer__n_neighbors': array([ 5,  6,  7,  8,  9, 10, 11, 12, 13, 14]), 'learner__n_jobs': array([ 5,  6,  7,  8,  9, 10, 11, 12, 13, 14])}\n",
            "best model: R^2=0.001 with hyperparameters {'learner__n_jobs': 5, 'prep__combined__ncaa__imputer__n_neighbors': 5}\n"
          ]
        },
        {
          "output_type": "display_data",
          "data": {
            "text/plain": [
              "<Figure size 640x480 with 1 Axes>"
            ],
            "image/png": "[encoded data removed]"
          },
          "metadata": {}
        }
      ],
      "source": [
        "from sklearn.linear_model import LinearRegression\n",
        "learner = LinearRegression()\n",
        "hyperparameters = {\n",
        "    'prep__combined__ncaa__imputer__n_neighbors':np.arange(5,15),\n",
        "    'learner__n_jobs': np.arange(5,15),\n",
        "}\n",
        "model = run_model(learner, hyperparameters)\n",
        "regessors[model] = model\n",
        "# shap_values=run_shap(model)"
      ]
    },
    {
      "cell_type": "markdown",
      "metadata": {
        "id": "hq4iV_vsYOC-"
      },
      "source": [
        "## Support Vector Machines"
      ]
    },
    {
      "cell_type": "code",
      "execution_count": null,
      "metadata": {
        "colab": {
          "base_uri": "https://localhost:8080/",
          "height": 501
        },
        "id": "PmfrKVR-YEWw",
        "outputId": "b11928a2-bfa3-46ed-c8c7-d7a1f2ccfe47"
      },
      "outputs": [
        {
          "output_type": "display_data",
          "data": {
            "text/plain": [
              "<IPython.core.display.HTML object>"
            ],
            "text/html": [
              "<pre>✔️ 1 min 29 s (2023-05-03T03:04:51/2023-05-03T03:06:21)</pre>"
            ]
          },
          "metadata": {}
        },
        {
          "output_type": "stream",
          "name": "stdout",
          "text": [
            "Fitting SVR with hyperparameter grid: {'prep__combined__ncaa__imputer__n_neighbors': array([ 5,  6,  7,  8,  9, 10, 11, 12, 13, 14]), 'learner__C': array([ 5,  6,  7,  8,  9, 10, 11, 12, 13, 14])}\n",
            "best model: R^2=0.024 with hyperparameters {'learner__C': 14, 'prep__combined__ncaa__imputer__n_neighbors': 5}\n"
          ]
        },
        {
          "output_type": "display_data",
          "data": {
            "text/plain": [
              "<Figure size 640x480 with 1 Axes>"
            ],
            "image/png": "[encoded data removed]"
          },
          "metadata": {}
        }
      ],
      "source": [
        "from sklearn.svm import SVR\n",
        "learner = SVR()\n",
        "hyperparameters = {\n",
        "    'prep__combined__ncaa__imputer__n_neighbors': np.arange(5,15),\n",
        "    'learner__C': np.arange(5,15),\n",
        "}\n",
        "model = run_model(learner, hyperparameters)\n",
        "regessors[model] = model\n",
        "# shap_values=run_shap(model)"
      ]
    },
    {
      "cell_type": "markdown",
      "metadata": {
        "id": "T7ZBPonzXBej"
      },
      "source": [
        "## Hist Gradient Boosting Regression"
      ]
    },
    {
      "cell_type": "code",
      "execution_count": null,
      "metadata": {
        "colab": {
          "base_uri": "https://localhost:8080/",
          "height": 501
        },
        "id": "bNMkYuWsLSgN",
        "outputId": "b8a857d2-2783-4056-bef5-f6aa76091581"
      },
      "outputs": [
        {
          "output_type": "display_data",
          "data": {
            "text/plain": [
              "<IPython.core.display.HTML object>"
            ],
            "text/html": [
              "<pre>✔️ 45.9 s (2023-05-03T03:06:31/2023-05-03T03:07:17)</pre>"
            ]
          },
          "metadata": {}
        },
        {
          "output_type": "stream",
          "name": "stdout",
          "text": [
            "Fitting HistGradientBoostingRegressor with hyperparameter grid: {'prep__combined__ncaa__imputer__n_neighbors': array([ 5,  6,  7,  8,  9, 10, 11, 12, 13, 14]), 'learner__max_iter': array([ 5,  6,  7,  8,  9, 10, 11, 12, 13, 14])}\n",
            "best model: R^2=0.011 with hyperparameters {'learner__max_iter': 5, 'prep__combined__ncaa__imputer__n_neighbors': 5}\n"
          ]
        },
        {
          "output_type": "display_data",
          "data": {
            "text/plain": [
              "<Figure size 640x480 with 1 Axes>"
            ],
            "image/png": "[encoded data removed]"
          },
          "metadata": {}
        }
      ],
      "source": [
        "from sklearn.neighbors import KNeighborsRegressor\n",
        "learner = HistGradientBoostingRegressor()\n",
        "hyperparameters = {\n",
        "    'prep__combined__ncaa__imputer__n_neighbors': np.arange(5,15),\n",
        "    'learner__max_iter':np.arange(5,15),\n",
        "}\n",
        "model = run_model(learner, hyperparameters)\n",
        "regessors[model] = model\n",
        "# shap_values=run_shap(model)"
      ]
    },
    {
      "cell_type": "markdown",
      "source": [
        "#Conclusion"
      ],
      "metadata": {
        "id": "zR1o0CmTgI52"
      }
    },
    {
      "cell_type": "markdown",
      "source": [
        "None of my models have performed well and I cant seem to find the problems with the data. I tried many different combinations of features and none of them gave me any solid results. It may be that the variability in voting doesnt have any correlation to a teams win loss and this may show human error and bias in the NCAA voting system.\n"
      ],
      "metadata": {
        "id": "K-4DyVaGfxVt"
      }
    },
    {
      "cell_type": "markdown",
      "source": [
        "# Classifier"
      ],
      "metadata": {
        "id": "CWG4tM8cdg9W"
      }
    },
    {
      "cell_type": "markdown",
      "source": [
        "I couldn't get good results with a regressor and I think rank does have a natural order so I wanted to try a classifier model and see if I could get better results.\n"
      ],
      "metadata": {
        "id": "geRrWHPMhKkA"
      }
    },
    {
      "cell_type": "code",
      "source": [
        "import os, pathlib, joblib, contextlib, google.colab, missingno as msno\n",
        "import numpy as np, pandas as pd, sklearn, shap, matplotlib.pyplot as plt, seaborn as sns\n",
        "from sklearn.datasets import fetch_openml\n",
        "from sklearn.preprocessing import OneHotEncoder, MinMaxScaler\n",
        "from sklearn.decomposition import PCA\n",
        "from sklearn.cluster import KMeans\n",
        "from sklearn.impute import KNNImputer\n",
        "from sklearn.pipeline import Pipeline\n",
        "from sklearn.compose import ColumnTransformer\n",
        "from sklearn.model_selection import train_test_split, GridSearchCV, RandomizedSearchCV\n",
        "from sklearn.metrics import classification_report, ConfusionMatrixDisplay, RocCurveDisplay"
      ],
      "metadata": {
        "colab": {
          "base_uri": "https://localhost:8080/",
          "height": 34
        },
        "id": "uolXfxm-eFc-",
        "outputId": "b36fde33-f2b4-4237-f988-d88b8d338001"
      },
      "execution_count": null,
      "outputs": [
        {
          "output_type": "display_data",
          "data": {
            "text/plain": [
              "<IPython.core.display.HTML object>"
            ],
            "text/html": [
              "<pre>✔️ 1.57 ms (2023-05-11T20:19:56/2023-05-11T20:19:56)</pre>"
            ]
          },
          "metadata": {}
        }
      ]
    },
    {
      "cell_type": "code",
      "source": [
        "# In order to make this a classification task, we will use pandas qcut function to bin the target values into n_labels classes with roughly equal frequencies\n",
        "y = final2.loc[mask, target]\n",
        "n_labels = 2\n",
        "y_binned = pd.qcut(final2.loc[mask, target], q=n_labels, precision=1)\n",
        "y    = y_binned.cat.codes\n",
        "bins = y_binned.cat.categories.astype(str).to_list()\n",
        "numeric_prep = Pipeline(steps = [('scaler',MinMaxScaler())])#StandardScaler()MinMaxScaler\n",
        "ncaa_prep = Pipeline(steps=[('imputer',KNNImputer())])\n",
        "combined_prep= ColumnTransformer(transformers=[('numeric',numeric_prep,numeric_features),('ncaa',ncaa_prep,ncaa_features)])#('ncaa',ncaa_prep,ncaa_features)\n",
        "prep = Pipeline(steps = [('combined',combined_prep)])\n",
        "display(prep)\n",
        "# create holdout set to estimate generalization performance after tuning\n",
        "X_train, X_holdout, y_train, y_holdout = train_test_split(X, y, test_size=0.10, random_state=seed)\n",
        "\n",
        "# dictionary to store models\n",
        "classifiers = dict()\n",
        "\n",
        "# function to make training with different supervised learners convenient\n",
        "def run_model(learner, hyperparameters):\n",
        "    # append final learner to pipeline\n",
        "    estimator = Pipeline(steps = [('prep', prep), ('learner', learner)])\n",
        "\n",
        "    # prepare to tune hyperparameters using either exhaustive grid search or randomized grid search\n",
        "    model =       GridSearchCV(estimator, hyperparameters, cv=5, scoring='f1_micro')\n",
        "    # model = RandomizedSearchCV(estimator, hyperparameters, cv=5, scoring='f1_micro')\n",
        "\n",
        "    # give model a name based on its learner\n",
        "    model.name = str(learner).split('(')[0]\n",
        "\n",
        "    print(f'Fitting {model.name} with hyperparameter grid:', hyperparameters)\n",
        "    model.fit(X_train, y_train)\n",
        "\n",
        "    # Apply best model to holdout set to estimate generalization performance\n",
        "    model.generalization_score = model.score(X_holdout, y_holdout)\n",
        "    print(f'best model: F1={model.generalization_score:.3f} with hyperparameters {model.best_params_}')\n",
        "    print(classification_report(y_holdout, model.predict(X_holdout), target_names=bins))\n",
        "\n",
        "    ConfusionMatrixDisplay.from_estimator(model, X_holdout, y_holdout, display_labels=bins)\n",
        "    plt.show()\n",
        "\n",
        "    if n_labels == 2:\n",
        "        RocCurveDisplay.from_estimator(model, X_holdout, y_holdout)\n",
        "        plt.plot([0,1],[0,1])\n",
        "        plt.show()"
      ],
      "metadata": {
        "colab": {
          "base_uri": "https://localhost:8080/",
          "height": 171
        },
        "id": "l-bjiiCVdlWf",
        "outputId": "750ff173-09ca-4aa7-ca75-eb77e4f27514"
      },
      "execution_count": null,
      "outputs": [
        {
          "output_type": "display_data",
          "data": {
            "text/plain": [
              "<IPython.core.display.HTML object>"
            ],
            "text/html": [
              "<pre>✔️ 64.2 ms (2023-05-11T20:24:49/2023-05-11T20:24:49)</pre>"
            ]
          },
          "metadata": {}
        },
        {
          "output_type": "display_data",
          "data": {
            "text/plain": [
              "Pipeline(steps=[('combined',\n",
              "                 ColumnTransformer(transformers=[('numeric',\n",
              "                                                  Pipeline(steps=[('scaler',\n",
              "                                                                   MinMaxScaler())]),\n",
              "                                                  ['point_difference',\n",
              "                                                   'difference_votes']),\n",
              "                                                 ('ncaa',\n",
              "                                                  Pipeline(steps=[('imputer',\n",
              "                                                                   KNNImputer())]),\n",
              "                                                  ['performance_overall'])]))])"
            ],
            "text/html": [
              "<style>#sk-container-id-2 {color: black;background-color: white;}#sk-container-id-2 pre{padding: 0;}#sk-container-id-2 div.sk-toggleable {background-color: white;}#sk-container-id-2 label.sk-toggleable__label {cursor: pointer;display: block;width: 100%;margin-bottom: 0;padding: 0.3em;box-sizing: border-box;text-align: center;}#sk-container-id-2 label.sk-toggleable__label-arrow:before {content: \"▸\";float: left;margin-right: 0.25em;color: #696969;}#sk-container-id-2 label.sk-toggleable__label-arrow:hover:before {color: black;}#sk-container-id-2 div.sk-estimator:hover label.sk-toggleable__label-arrow:before {color: black;}#sk-container-id-2 div.sk-toggleable__content {max-height: 0;max-width: 0;overflow: hidden;text-align: left;background-color: #f0f8ff;}#sk-container-id-2 div.sk-toggleable__content pre {margin: 0.2em;color: black;border-radius: 0.25em;background-color: #f0f8ff;}#sk-container-id-2 input.sk-toggleable__control:checked~div.sk-toggleable__content {max-height: 200px;max-width: 100%;overflow: auto;}#sk-container-id-2 input.sk-toggleable__control:checked~label.sk-toggleable__label-arrow:before {content: \"▾\";}#sk-container-id-2 div.sk-estimator input.sk-toggleable__control:checked~label.sk-toggleable__label {background-color: #d4ebff;}#sk-container-id-2 div.sk-label input.sk-toggleable__control:checked~label.sk-toggleable__label {background-color: #d4ebff;}#sk-container-id-2 input.sk-hidden--visually {border: 0;clip: rect(1px 1px 1px 1px);clip: rect(1px, 1px, 1px, 1px);height: 1px;margin: -1px;overflow: hidden;padding: 0;position: absolute;width: 1px;}#sk-container-id-2 div.sk-estimator {font-family: monospace;background-color: #f0f8ff;border: 1px dotted black;border-radius: 0.25em;box-sizing: border-box;margin-bottom: 0.5em;}#sk-container-id-2 div.sk-estimator:hover {background-color: #d4ebff;}#sk-container-id-2 div.sk-parallel-item::after {content: \"\";width: 100%;border-bottom: 1px solid gray;flex-grow: 1;}#sk-container-id-2 div.sk-label:hover label.sk-toggleable__label {background-color: #d4ebff;}#sk-container-id-2 div.sk-serial::before {content: \"\";position: absolute;border-left: 1px solid gray;box-sizing: border-box;top: 0;bottom: 0;left: 50%;z-index: 0;}#sk-container-id-2 div.sk-serial {display: flex;flex-direction: column;align-items: center;background-color: white;padding-right: 0.2em;padding-left: 0.2em;position: relative;}#sk-container-id-2 div.sk-item {position: relative;z-index: 1;}#sk-container-id-2 div.sk-parallel {display: flex;align-items: stretch;justify-content: center;background-color: white;position: relative;}#sk-container-id-2 div.sk-item::before, #sk-container-id-2 div.sk-parallel-item::before {content: \"\";position: absolute;border-left: 1px solid gray;box-sizing: border-box;top: 0;bottom: 0;left: 50%;z-index: -1;}#sk-container-id-2 div.sk-parallel-item {display: flex;flex-direction: column;z-index: 1;position: relative;background-color: white;}#sk-container-id-2 div.sk-parallel-item:first-child::after {align-self: flex-end;width: 50%;}#sk-container-id-2 div.sk-parallel-item:last-child::after {align-self: flex-start;width: 50%;}#sk-container-id-2 div.sk-parallel-item:only-child::after {width: 0;}#sk-container-id-2 div.sk-dashed-wrapped {border: 1px dashed gray;margin: 0 0.4em 0.5em 0.4em;box-sizing: border-box;padding-bottom: 0.4em;background-color: white;}#sk-container-id-2 div.sk-label label {font-family: monospace;font-weight: bold;display: inline-block;line-height: 1.2em;}#sk-container-id-2 div.sk-label-container {text-align: center;}#sk-container-id-2 div.sk-container {/* jupyter's `normalize.less` sets `[hidden] { display: none; }` but bootstrap.min.css set `[hidden] { display: none !important; }` so we also need the `!important` here to be able to override the default hidden behavior on the sphinx rendered scikit-learn.org. See: https://github.com/scikit-learn/scikit-learn/issues/21755 */display: inline-block !important;position: relative;}#sk-container-id-2 div.sk-text-repr-fallback {display: none;}</style><div id=\"sk-container-id-2\" class=\"sk-top-container\"><div class=\"sk-text-repr-fallback\"><pre>Pipeline(steps=[(&#x27;combined&#x27;,\n",
              "                 ColumnTransformer(transformers=[(&#x27;numeric&#x27;,\n",
              "                                                  Pipeline(steps=[(&#x27;scaler&#x27;,\n",
              "                                                                   MinMaxScaler())]),\n",
              "                                                  [&#x27;point_difference&#x27;,\n",
              "                                                   &#x27;difference_votes&#x27;]),\n",
              "                                                 (&#x27;ncaa&#x27;,\n",
              "                                                  Pipeline(steps=[(&#x27;imputer&#x27;,\n",
              "                                                                   KNNImputer())]),\n",
              "                                                  [&#x27;performance_overall&#x27;])]))])</pre><b>In a Jupyter environment, please rerun this cell to show the HTML representation or trust the notebook. <br />On GitHub, the HTML representation is unable to render, please try loading this page with nbviewer.org.</b></div><div class=\"sk-container\" hidden><div class=\"sk-item sk-dashed-wrapped\"><div class=\"sk-label-container\"><div class=\"sk-label sk-toggleable\"><input class=\"sk-toggleable__control sk-hidden--visually\" id=\"sk-estimator-id-7\" type=\"checkbox\" ><label for=\"sk-estimator-id-7\" class=\"sk-toggleable__label sk-toggleable__label-arrow\">Pipeline</label><div class=\"sk-toggleable__content\"><pre>Pipeline(steps=[(&#x27;combined&#x27;,\n",
              "                 ColumnTransformer(transformers=[(&#x27;numeric&#x27;,\n",
              "                                                  Pipeline(steps=[(&#x27;scaler&#x27;,\n",
              "                                                                   MinMaxScaler())]),\n",
              "                                                  [&#x27;point_difference&#x27;,\n",
              "                                                   &#x27;difference_votes&#x27;]),\n",
              "                                                 (&#x27;ncaa&#x27;,\n",
              "                                                  Pipeline(steps=[(&#x27;imputer&#x27;,\n",
              "                                                                   KNNImputer())]),\n",
              "                                                  [&#x27;performance_overall&#x27;])]))])</pre></div></div></div><div class=\"sk-serial\"><div class=\"sk-item sk-dashed-wrapped\"><div class=\"sk-label-container\"><div class=\"sk-label sk-toggleable\"><input class=\"sk-toggleable__control sk-hidden--visually\" id=\"sk-estimator-id-8\" type=\"checkbox\" ><label for=\"sk-estimator-id-8\" class=\"sk-toggleable__label sk-toggleable__label-arrow\">combined: ColumnTransformer</label><div class=\"sk-toggleable__content\"><pre>ColumnTransformer(transformers=[(&#x27;numeric&#x27;,\n",
              "                                 Pipeline(steps=[(&#x27;scaler&#x27;, MinMaxScaler())]),\n",
              "                                 [&#x27;point_difference&#x27;, &#x27;difference_votes&#x27;]),\n",
              "                                (&#x27;ncaa&#x27;,\n",
              "                                 Pipeline(steps=[(&#x27;imputer&#x27;, KNNImputer())]),\n",
              "                                 [&#x27;performance_overall&#x27;])])</pre></div></div></div><div class=\"sk-parallel\"><div class=\"sk-parallel-item\"><div class=\"sk-item\"><div class=\"sk-label-container\"><div class=\"sk-label sk-toggleable\"><input class=\"sk-toggleable__control sk-hidden--visually\" id=\"sk-estimator-id-9\" type=\"checkbox\" ><label for=\"sk-estimator-id-9\" class=\"sk-toggleable__label sk-toggleable__label-arrow\">numeric</label><div class=\"sk-toggleable__content\"><pre>[&#x27;point_difference&#x27;, &#x27;difference_votes&#x27;]</pre></div></div></div><div class=\"sk-serial\"><div class=\"sk-item\"><div class=\"sk-serial\"><div class=\"sk-item\"><div class=\"sk-estimator sk-toggleable\"><input class=\"sk-toggleable__control sk-hidden--visually\" id=\"sk-estimator-id-10\" type=\"checkbox\" ><label for=\"sk-estimator-id-10\" class=\"sk-toggleable__label sk-toggleable__label-arrow\">MinMaxScaler</label><div class=\"sk-toggleable__content\"><pre>MinMaxScaler()</pre></div></div></div></div></div></div></div></div><div class=\"sk-parallel-item\"><div class=\"sk-item\"><div class=\"sk-label-container\"><div class=\"sk-label sk-toggleable\"><input class=\"sk-toggleable__control sk-hidden--visually\" id=\"sk-estimator-id-11\" type=\"checkbox\" ><label for=\"sk-estimator-id-11\" class=\"sk-toggleable__label sk-toggleable__label-arrow\">ncaa</label><div class=\"sk-toggleable__content\"><pre>[&#x27;performance_overall&#x27;]</pre></div></div></div><div class=\"sk-serial\"><div class=\"sk-item\"><div class=\"sk-serial\"><div class=\"sk-item\"><div class=\"sk-estimator sk-toggleable\"><input class=\"sk-toggleable__control sk-hidden--visually\" id=\"sk-estimator-id-12\" type=\"checkbox\" ><label for=\"sk-estimator-id-12\" class=\"sk-toggleable__label sk-toggleable__label-arrow\">KNNImputer</label><div class=\"sk-toggleable__content\"><pre>KNNImputer()</pre></div></div></div></div></div></div></div></div></div></div></div></div></div></div>"
            ]
          },
          "metadata": {}
        }
      ]
    },
    {
      "cell_type": "markdown",
      "source": [
        "## Random Forest Classifier"
      ],
      "metadata": {
        "id": "5VGL8tEbh-Cl"
      }
    },
    {
      "cell_type": "code",
      "source": [
        "# Random Forest\n",
        "from sklearn.ensemble import RandomForestClassifier\n",
        "learner = RandomForestClassifier(random_state=seed)\n",
        "hyperparameters = {\n",
        "    'prep__combined__ncaa__imputer__n_neighbors': [2,4],\n",
        "    'learner__max_depth': [3,6,9],\n",
        "}\n",
        "model = run_model(learner, hyperparameters)\n",
        "classifiers[model] = model\n"
      ],
      "metadata": {
        "colab": {
          "base_uri": "https://localhost:8080/",
          "height": 1000
        },
        "id": "EyDNDWyWeHRO",
        "outputId": "7c40dee7-35d4-4a01-93b6-ec02fbbf006b"
      },
      "execution_count": null,
      "outputs": [
        {
          "output_type": "display_data",
          "data": {
            "text/plain": [
              "<IPython.core.display.HTML object>"
            ],
            "text/html": [
              "<pre>✔️ 14.8 s (2023-05-11T21:13:25/2023-05-11T21:13:39)</pre>"
            ]
          },
          "metadata": {}
        },
        {
          "output_type": "stream",
          "name": "stdout",
          "text": [
            "Fitting RandomForestClassifier with hyperparameter grid: {'prep__combined__ncaa__imputer__n_neighbors': [2, 4], 'learner__max_depth': [3, 6, 9]}\n",
            "best model: F1=0.899 with hyperparameters {'learner__max_depth': 6, 'prep__combined__ncaa__imputer__n_neighbors': 2}\n",
            "                precision    recall  f1-score   support\n",
            "\n",
            "(-1096.1, 0.0]       0.96      0.92      0.94       122\n",
            "  (0.0, 749.0]       0.69      0.81      0.75        27\n",
            "\n",
            "      accuracy                           0.90       149\n",
            "     macro avg       0.82      0.87      0.84       149\n",
            "  weighted avg       0.91      0.90      0.90       149\n",
            "\n"
          ]
        },
        {
          "output_type": "display_data",
          "data": {
            "text/plain": [
              "<Figure size 640x480 with 2 Axes>"
            ],
            "image/png": "[encoded data removed]"
          },
          "metadata": {}
        },
        {
          "output_type": "display_data",
          "data": {
            "text/plain": [
              "<Figure size 640x480 with 1 Axes>"
            ],
            "image/png": "[encoded data removed]"
          },
          "metadata": {}
        }
      ]
    },
    {
      "cell_type": "markdown",
      "source": [
        "## KNN Classifier"
      ],
      "metadata": {
        "id": "mfmxKRNuiqyI"
      }
    },
    {
      "cell_type": "code",
      "source": [
        "from sklearn.neighbors import KNeighborsClassifier\n",
        "learner = KNeighborsClassifier()\n",
        "hyperparameters = {\n",
        "    'prep__combined__ncaa__imputer__n_neighbors': [3,7],\n",
        "    'learner__n_neighbors': [3,6,9],\n",
        "}\n",
        "model = run_model(learner, hyperparameters)\n",
        "classifiers[model] = model"
      ],
      "metadata": {
        "colab": {
          "base_uri": "https://localhost:8080/",
          "height": 1000
        },
        "id": "zP8hNovdfx81",
        "outputId": "7c92276e-856a-4df4-f8e6-cf1222765aff"
      },
      "execution_count": null,
      "outputs": [
        {
          "output_type": "display_data",
          "data": {
            "text/plain": [
              "<IPython.core.display.HTML object>"
            ],
            "text/html": [
              "<pre>✔️ 4.91 s (2023-05-11T20:36:07/2023-05-11T20:36:12)</pre>"
            ]
          },
          "metadata": {}
        },
        {
          "output_type": "stream",
          "name": "stdout",
          "text": [
            "Fitting KNeighborsClassifier with hyperparameter grid: {'prep__combined__ncaa__imputer__n_neighbors': [3, 7], 'learner__n_neighbors': [3, 6, 9]}\n",
            "best model: F1=0.872 with hyperparameters {'learner__n_neighbors': 9, 'prep__combined__ncaa__imputer__n_neighbors': 3}\n",
            "                precision    recall  f1-score   support\n",
            "\n",
            "(-1096.1, 0.0]       0.91      0.94      0.92       122\n",
            "  (0.0, 749.0]       0.68      0.56      0.61        27\n",
            "\n",
            "      accuracy                           0.87       149\n",
            "     macro avg       0.79      0.75      0.77       149\n",
            "  weighted avg       0.86      0.87      0.87       149\n",
            "\n"
          ]
        },
        {
          "output_type": "display_data",
          "data": {
            "text/plain": [
              "<Figure size 640x480 with 2 Axes>"
            ],
            "image/png": "[encoded data removed]"
          },
          "metadata": {}
        },
        {
          "output_type": "display_data",
          "data": {
            "text/plain": [
              "<Figure size 640x480 with 1 Axes>"
            ],
            "image/png": "[encoded data removed]"
          },
          "metadata": {}
        }
      ]
    },
    {
      "cell_type": "markdown",
      "source": [
        "##Support Vector Machine Classifier"
      ],
      "metadata": {
        "id": "Gz2NlfYxjDL4"
      }
    },
    {
      "cell_type": "code",
      "source": [
        "from sklearn.svm import SVC\n",
        "learner = SVC()\n",
        "hyperparameters = {\n",
        "    'prep__combined__ncaa__imputer__n_neighbors': [3,7],\n",
        "    'learner__C': np.linspace(0.1,5,3),\n",
        "}\n",
        "model = run_model(learner, hyperparameters)\n",
        "classifiers[model] = model"
      ],
      "metadata": {
        "colab": {
          "base_uri": "https://localhost:8080/",
          "height": 1000
        },
        "id": "0Eq4joe2i1sD",
        "outputId": "ea15564a-b082-4574-ba0f-8a1dd2337039"
      },
      "execution_count": null,
      "outputs": [
        {
          "output_type": "display_data",
          "data": {
            "text/plain": [
              "<IPython.core.display.HTML object>"
            ],
            "text/html": [
              "<pre>✔️ 6.51 s (2023-05-11T20:41:27/2023-05-11T20:41:34)</pre>"
            ]
          },
          "metadata": {}
        },
        {
          "output_type": "stream",
          "name": "stdout",
          "text": [
            "Fitting SVC with hyperparameter grid: {'prep__combined__ncaa__imputer__n_neighbors': [3, 7], 'learner__C': array([0.1 , 2.55, 5.  ])}\n",
            "best model: F1=0.886 with hyperparameters {'learner__C': 5.0, 'prep__combined__ncaa__imputer__n_neighbors': 3}\n",
            "                precision    recall  f1-score   support\n",
            "\n",
            "(-1096.1, 0.0]       0.91      0.96      0.93       122\n",
            "  (0.0, 749.0]       0.75      0.56      0.64        27\n",
            "\n",
            "      accuracy                           0.89       149\n",
            "     macro avg       0.83      0.76      0.79       149\n",
            "  weighted avg       0.88      0.89      0.88       149\n",
            "\n"
          ]
        },
        {
          "output_type": "display_data",
          "data": {
            "text/plain": [
              "<Figure size 640x480 with 2 Axes>"
            ],
            "image/png": "[encoded data removed]"
          },
          "metadata": {}
        },
        {
          "output_type": "display_data",
          "data": {
            "text/plain": [
              "<Figure size 640x480 with 1 Axes>"
            ],
            "image/png": "[encoded data removed]"
          },
          "metadata": {}
        }
      ]
    }
  ],
  "metadata": {
    "colab": {
      "provenance": [],
      "mount_file_id": "1zxY-1PWJdnEivFNvEzNJWC2r1lthRpuV",
      "authorship_tag": "ABX9TyNS233bQEwqC95qK1M+VHas",
      "include_colab_link": true
    },
    "kernelspec": {
      "display_name": "Python 3",
      "name": "python3"
    },
    "language_info": {
      "name": "python"
    }
  },
  "nbformat": 4,
  "nbformat_minor": 0
}